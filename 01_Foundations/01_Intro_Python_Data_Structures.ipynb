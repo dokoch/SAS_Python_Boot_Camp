{
 "cells": [
  {
   "cell_type": "markdown",
   "metadata": {
    "collapsed": false,
    "id": "rVQOnZDGKSGE"
   },
   "source": [
    "# Builtin Python Data Structures"
   ]
  },
  {
   "cell_type": "markdown",
   "metadata": {
    "collapsed": false,
    "id": "03chmwizD2r4"
   },
   "source": [
    "## Introduction\n",
    "\n",
    "It is critical as a Data Scientist to thoroughly understand the basic Python data structures and how numbers are represented in the computer.  We will build on this foundation when we discuss the Numpy and Pandas libraries. \n",
    "\n",
    "The foundational Python data model is documented on the [docs.python.org](https://docs.python.org/3.8/reference/datamodel.html) site and is your go to reference for Python data.  However, the docs can be at times confusing so we will go through each data structure with explanations and examples.  Our goal is to ensure that everybody has a solid foundation on which to build."
   ]
  },
  {
   "cell_type": "markdown",
   "metadata": {
    "collapsed": false,
    "id": "03chmwizD2r4"
   },
   "source": [
    "<a class=\"anchor\" id=\"0\"></a>\n",
    "## Table of Contents\n",
    "1. [Notebooks](#1)\n",
    "1. Fundamental Python Data Structures\n",
    "    1. Introduction\n",
    "    1. [Numbers](#3)\n",
    "        1. Integers\n",
    "        1. Boolean\n",
    "        1. Real\n",
    "        1. Complex\n",
    "    1. [Sequences](#4)\n",
    "        1. Strings\n",
    "        1. Tuples\n",
    "        1. Bytes\n",
    "        1. Lists\n",
    "        1. Byte Arrays\n",
    "    1. [Sets](#5)\n",
    "        1. Sets\n",
    "        1. Frozen Sets\n",
    "    1. [Mappings](#6)\n",
    "        1. Dictionaries\n",
    "    1. [Special Types](#7)\n",
    "        1. None\n",
    "        1. NotImplimented\n",
    "        1. Ellipsis"
   ]
  },
  {
   "cell_type": "markdown",
   "metadata": {
    "collapsed": false
   },
   "source": [
    "---\n",
    "<a class=\"anchor\" id=\"1\"></a>\n",
    "## Notebooks\n",
    "[Back to Table of Contents](#0)"
   ]
  },
  {
   "cell_type": "markdown",
   "metadata": {
    "collapsed": false
   },
   "source": [
    "JupyterLab is based on Jupyter Notebooks.  Each Notebook is composed of one or more **cells** and is associated with a **kernel**. \n",
    "\n",
    "### Kernels\n",
    "Kernels are the execution engines which execute programming languages such as **Ju**lia, **Py**thon or **R** (hence Jupyter). Today many other languages are also supported by Jupyter.  We will only be dealing with Python kernels in this course. The Python kernel is based on IPython, which is the modern Python REPL (Read-Evaluate-Print Loop) interpreter.  You can run IPython from a shell command line if you like and get much of the same functionality as a Notebook with a Python kernel.\n",
    "\n",
    "### Cells\n",
    "#### Each cell has a \"type\":\n",
    "* **Code** - The cell contains code for the kernel that you are running.  The cell \"understands\" your code. \n",
    "* **Markdown** - The cell contains documentation formatted with *Markdown*.\n",
    "* **Raw** - No formatting or interpretation of the content of a raw cell is executed.  It's left as is.\n",
    "\n",
    "#### The color of the box around the cell is important:\n",
    "* **Blue** - If a cell is bordered by a blue, then you are in **editing** mode for that cell.\n",
    "* **Gray** - If a cell is bordered by a gray box, then you are in **command** mode for that cell.\n",
    "\n",
    "#### Keyboard shortcuts\n",
    "\n",
    "* **ESC** - The esc key switches a cell from Edit Mode (blue box) to Command Mode (gray box)\n",
    "* **Enter** - The enter key switches a cell from Command Mode to Edit Mode\n",
    "\n",
    "##### Editing Mode\n",
    "* **TAB** - brings up a completion menu for the object you are working with\n",
    "* **Shift-TAB** - brings up helpful information on the nearest object\n",
    "* **?obj*** shows obj help (docstring)\n",
    "* **??obj** shows obj source code\n",
    "* **dir(obj)** provides a list of an objects attributes and methods\n",
    "\n",
    "\n",
    "##### Command Mode\n",
    "* **DD** - delete the cell\n",
    "* **X** - cut the cellb\n",
    "* **C** - copy the cell\n",
    "* **V** - paste the cell below\n",
    "* **A** - insert a new cell above this one\n",
    "* **B** - insert a new cell below this one\n",
    "\n",
    "### Getting Help\n",
    "JupyterLab and to some extent Jupyter Notebook has help on almost any topic you may need under the Help menu. \n",
    "\n",
    "---"
   ]
  },
  {
   "cell_type": "markdown",
   "metadata": {
    "collapsed": false,
    "id": "u0Gp24pIKK0Y"
   },
   "source": [
    "\n",
    "### Introduction\n",
    "* Everything in Python is an Object. \n",
    "* Every Object has:\n",
    "    * _Identity_ (its address)\n",
    "    * _Type_ (determines what it can do)\n",
    "    * _Value_ (what values can it take on)\n",
    "    * _Pointer_ (the thing you see)\n",
    "* Objects are accessed by reference (a pointer to the object)\n",
    "* Information about Python objects is at your fingertips:\n",
    "    * type(obj)\n",
    "    * dir(obj)\n",
    "    * help(obj)\n",
    "    * obj Shift-TAB\n",
    "    * obj. TAB\n",
    "    * id(obj)"
   ]
  },
  {
   "cell_type": "code",
   "execution_count": 2,
   "metadata": {
    "colab": {
     "base_uri": "https://localhost:8080/"
    },
    "collapsed": false,
    "executionInfo": {
     "elapsed": 608,
     "status": "ok",
     "timestamp": 1608496210115,
     "user": {
      "displayName": "Don Koch",
      "photoUrl": "https://lh3.googleusercontent.com/a-/AOh14GizPaz5Q6VSf8iuBk-yy6t2E90NtjrjTJizHbMb=s64",
      "userId": "10116018109646484238"
     },
     "user_tz": 300
    },
    "id": "IHZ7UcyJx4rs",
    "outputId": "bb15141e-8d9a-4a6d-b725-6ec5f3a668b0"
   },
   "outputs": [
    {
     "data": {
      "text/plain": [
       "'0x1.91eb851eb851fp+1'"
      ]
     },
     "execution_count": 2,
     "metadata": {},
     "output_type": "execute_result"
    }
   ],
   "source": [
    "# The variable \"a\" points to the float object whose value is 3.14\n",
    "a = 3.14\n",
    "type(a)"
   ]
  },
  {
   "cell_type": "code",
   "execution_count": 4,
   "metadata": {
    "colab": {
     "base_uri": "https://localhost:8080/"
    },
    "collapsed": false,
    "executionInfo": {
     "elapsed": 608,
     "status": "ok",
     "timestamp": 1608496210115,
     "user": {
      "displayName": "Don Koch",
      "photoUrl": "https://lh3.googleusercontent.com/a-/AOh14GizPaz5Q6VSf8iuBk-yy6t2E90NtjrjTJizHbMb=s64",
      "userId": "10116018109646484238"
     },
     "user_tz": 300
    },
    "id": "IHZ7UcyJx4rs",
    "outputId": "bb15141e-8d9a-4a6d-b725-6ec5f3a668b0"
   },
   "outputs": [
    {
     "data": {
      "text/plain": [
       "140510598477680"
      ]
     },
     "execution_count": 4,
     "metadata": {},
     "output_type": "execute_result"
    }
   ],
   "source": [
    "# The address of the object pointed to by \"a\"\n",
    "id(a)"
   ]
  },
  {
   "cell_type": "code",
   "execution_count": 5,
   "metadata": {
    "colab": {
     "base_uri": "https://localhost:8080/"
    },
    "collapsed": false,
    "executionInfo": {
     "elapsed": 608,
     "status": "ok",
     "timestamp": 1608496210115,
     "user": {
      "displayName": "Don Koch",
      "photoUrl": "https://lh3.googleusercontent.com/a-/AOh14GizPaz5Q6VSf8iuBk-yy6t2E90NtjrjTJizHbMb=s64",
      "userId": "10116018109646484238"
     },
     "user_tz": 300
    },
    "id": "IHZ7UcyJx4rs",
    "outputId": "bb15141e-8d9a-4a6d-b725-6ec5f3a668b0"
   },
   "outputs": [
    {
     "data": {
      "text/plain": [
       "140510598477680"
      ]
     },
     "execution_count": 5,
     "metadata": {},
     "output_type": "execute_result"
    }
   ],
   "source": [
    "# The variable \"b\" now points to the same object as \"a\"\n",
    "b = a\n",
    "id(b)"
   ]
  },
  {
   "cell_type": "code",
   "execution_count": 6,
   "metadata": {
    "colab": {
     "base_uri": "https://localhost:8080/"
    },
    "collapsed": false,
    "executionInfo": {
     "elapsed": 608,
     "status": "ok",
     "timestamp": 1608496210115,
     "user": {
      "displayName": "Don Koch",
      "photoUrl": "https://lh3.googleusercontent.com/a-/AOh14GizPaz5Q6VSf8iuBk-yy6t2E90NtjrjTJizHbMb=s64",
      "userId": "10116018109646484238"
     },
     "user_tz": 300
    },
    "id": "IHZ7UcyJx4rs",
    "outputId": "bb15141e-8d9a-4a6d-b725-6ec5f3a668b0"
   },
   "outputs": [
    {
     "data": {
      "text/plain": [
       "True"
      ]
     },
     "execution_count": 6,
     "metadata": {},
     "output_type": "execute_result"
    }
   ],
   "source": [
    "a is b"
   ]
  },
  {
   "cell_type": "code",
   "execution_count": null,
   "metadata": {
    "colab": {
     "base_uri": "https://localhost:8080/"
    },
    "collapsed": false,
    "executionInfo": {
     "elapsed": 608,
     "status": "ok",
     "timestamp": 1608496210115,
     "user": {
      "displayName": "Don Koch",
      "photoUrl": "https://lh3.googleusercontent.com/a-/AOh14GizPaz5Q6VSf8iuBk-yy6t2E90NtjrjTJizHbMb=s64",
      "userId": "10116018109646484238"
     },
     "user_tz": 300
    },
    "id": "IHZ7UcyJx4rs",
    "outputId": "bb15141e-8d9a-4a6d-b725-6ec5f3a668b0"
   },
   "outputs": [],
   "source": [
    "# Point variable \"a\" to a different object\n",
    "a = 6.28 \n",
    "id(a)"
   ]
  },
  {
   "cell_type": "code",
   "execution_count": null,
   "metadata": {
    "collapsed": false
   },
   "outputs": [],
   "source": [
    "a is b"
   ]
  },
  {
   "cell_type": "markdown",
   "metadata": {
    "collapsed": false,
    "id": "c_GeHCaaqRXm"
   },
   "source": [
    "---\n",
    "<a class=\"anchor\" id=\"3\"></a>\n",
    "## Numbers\n",
    "[Back to Table of Contents](#0)"
   ]
  },
  {
   "cell_type": "markdown",
   "metadata": {
    "collapsed": false,
    "id": "c_GeHCaaqRXm"
   },
   "source": [
    "#### Integers\n",
    "* There are two types of Integers:\n",
    "    * int - regular integers (0,1,2,...)\n",
    "    * bool - __True__ or __False__\n",
    "<p/>\n",
    "* Integers are immutable\n",
    "* Range is only limited by machines virtual memory"
   ]
  },
  {
   "cell_type": "code",
   "execution_count": null,
   "metadata": {
    "colab": {
     "base_uri": "https://localhost:8080/"
    },
    "collapsed": false,
    "executionInfo": {
     "elapsed": 593,
     "status": "ok",
     "timestamp": 1608496663146,
     "user": {
      "displayName": "Don Koch",
      "photoUrl": "https://lh3.googleusercontent.com/a-/AOh14GizPaz5Q6VSf8iuBk-yy6t2E90NtjrjTJizHbMb=s64",
      "userId": "10116018109646484238"
     },
     "user_tz": 300
    },
    "id": "raHyH3Q6VBxO",
    "outputId": "ff3c8b51-acec-43e7-8f7b-781a4c60a40c"
   },
   "outputs": [],
   "source": [
    "x = 2\n",
    "print(f\"The value of x is {x} and type is {type(x)}\")\n",
    "b = True\n",
    "print(f\"The value of b is {b} and type is {type(b)}\")"
   ]
  },
  {
   "cell_type": "markdown",
   "metadata": {
    "collapsed": false,
    "id": "ffR-kAy8w4LJ"
   },
   "source": [
    "#### Real\n",
    "* float (3.14159)\n",
    "* Reals are immutable* Reals are immutable\n",
    "* [Double-precision 64-bit](https://en.wikipedia.org/wiki/Double-precision_floating-point_format)"
   ]
  },
  {
   "cell_type": "code",
   "execution_count": null,
   "metadata": {
    "colab": {
     "base_uri": "https://localhost:8080/"
    },
    "collapsed": false,
    "executionInfo": {
     "elapsed": 572,
     "status": "ok",
     "timestamp": 1608497269528,
     "user": {
      "displayName": "Don Koch",
      "photoUrl": "https://lh3.googleusercontent.com/a-/AOh14GizPaz5Q6VSf8iuBk-yy6t2E90NtjrjTJizHbMb=s64",
      "userId": "10116018109646484238"
     },
     "user_tz": 300
    },
    "id": "pGr8Gr7Hpx4G",
    "outputId": "e8480f32-b817-4087-8c22-93414a128fe0"
   },
   "outputs": [],
   "source": [
    "y = 9.123456789123456789123456789e300\n",
    "print(f\"The value of y is {y} and type is {type(y)}\")"
   ]
  },
  {
   "cell_type": "code",
   "execution_count": null,
   "metadata": {
    "collapsed": false,
    "id": "e1J6uoOk4zKb"
   },
   "outputs": [],
   "source": []
  },
  {
   "cell_type": "markdown",
   "metadata": {
    "collapsed": false,
    "id": "wYgzC82N7mxL"
   },
   "source": [
    "#### Complex\n",
    "* complex - (where i^2 = -1 for example 2+3i is a complex)\n",
    "* Complex numbers are immutable\n",
    "* A pair of double precision floating point numbers "
   ]
  },
  {
   "cell_type": "code",
   "execution_count": null,
   "metadata": {
    "colab": {
     "base_uri": "https://localhost:8080/"
    },
    "collapsed": false,
    "executionInfo": {
     "elapsed": 884,
     "status": "ok",
     "timestamp": 1608497403483,
     "user": {
      "displayName": "Don Koch",
      "photoUrl": "https://lh3.googleusercontent.com/a-/AOh14GizPaz5Q6VSf8iuBk-yy6t2E90NtjrjTJizHbMb=s64",
      "userId": "10116018109646484238"
     },
     "user_tz": 300
    },
    "id": "xKLJKsW58dM7",
    "outputId": "6ed8f6a2-cb7c-4f10-a1ec-f6e9d47f9599"
   },
   "outputs": [],
   "source": [
    "z = complex(-4, 9); \n",
    "print (f'The value of z is {z} and type is {type(z)}') \n",
    "print (f'Its real part is {z.real} and its imaginary part is {z.imag}') "
   ]
  },
  {
   "cell_type": "code",
   "execution_count": null,
   "metadata": {
    "collapsed": false
   },
   "outputs": [],
   "source": [
    "z**0.5"
   ]
  },
  {
   "cell_type": "code",
   "execution_count": null,
   "metadata": {
    "collapsed": false
   },
   "outputs": [],
   "source": [
    "(z**0.5)**2"
   ]
  },
  {
   "cell_type": "markdown",
   "metadata": {
    "collapsed": false,
    "id": "mcoAQB4d4KZJ"
   },
   "source": [
    "---\n",
    "<a class=\"anchor\" id=\"4\"></a>\n",
    "## Sequences\n",
    "[Back to Table of Contents](#0)"
   ]
  },
  {
   "cell_type": "markdown",
   "metadata": {
    "collapsed": false,
    "id": "7Kf1gzxMxin9"
   },
   "source": [
    "### Strings\n",
    "* Immutable\n",
    "* Unicode code points in the range U+0000 - U+10FFFF"
   ]
  },
  {
   "cell_type": "code",
   "execution_count": null,
   "metadata": {
    "colab": {
     "base_uri": "https://localhost:8080/"
    },
    "collapsed": false,
    "executionInfo": {
     "elapsed": 1292,
     "status": "ok",
     "timestamp": 1608495874204,
     "user": {
      "displayName": "Don Koch",
      "photoUrl": "https://lh3.googleusercontent.com/a-/AOh14GizPaz5Q6VSf8iuBk-yy6t2E90NtjrjTJizHbMb=s64",
      "userId": "10116018109646484238"
     },
     "user_tz": 300
    },
    "id": "IrhSnBf0p7zv",
    "outputId": "1fe9a770-6d4f-433b-dc19-12c3b364d091"
   },
   "outputs": [],
   "source": [
    "s = 'Hello World'\n",
    "print(f\"\"\"\n",
    "The value  of s is        : \"{s}\"\n",
    "The type   of s is        : {type(s)}\n",
    "The length of s is        : {len(s)}\n",
    "The value of s in caps is : {s.upper()}\n",
    "\"\"\")"
   ]
  },
  {
   "cell_type": "markdown",
   "metadata": {
    "collapsed": false,
    "id": "lVsASxSmOIa6"
   },
   "source": [
    "### Tuples\n",
    "* Immutable\n",
    "* Sequence of arbitrary Python objects\n",
    "* Special Cases\n",
    "    * Empty Tuple\n",
    "    * Singleton Tuple, only 1 object"
   ]
  },
  {
   "cell_type": "markdown",
   "metadata": {
    "collapsed": false,
    "id": "lVsASxSmOIa6"
   },
   "source": [
    "# empty tuple\n",
    "empty = ()\n",
    "print(f'The falue of empty is {empty} and type is {type(empty)}')"
   ]
  },
  {
   "cell_type": "code",
   "execution_count": null,
   "metadata": {
    "colab": {
     "base_uri": "https://localhost:8080/",
     "height": 240
    },
    "collapsed": false,
    "executionInfo": {
     "elapsed": 1296,
     "status": "error",
     "timestamp": 1608495874211,
     "user": {
      "displayName": "Don Koch",
      "photoUrl": "https://lh3.googleusercontent.com/a-/AOh14GizPaz5Q6VSf8iuBk-yy6t2E90NtjrjTJizHbMb=s64",
      "userId": "10116018109646484238"
     },
     "user_tz": 300
    },
    "id": "aKHkeWQdOT1r",
    "outputId": "07a3a027-d2f9-4be4-ac19-6cccf8b3859f"
   },
   "outputs": [],
   "source": [
    "# tuple with one object\n",
    "singleton = ('a',)\n",
    "print(f'The value of singlton is \"{singleton}\" and type is \"{type(singleton)}\"')"
   ]
  },
  {
   "cell_type": "code",
   "execution_count": null,
   "metadata": {
    "colab": {
     "base_uri": "https://localhost:8080/",
     "height": 240
    },
    "collapsed": false,
    "executionInfo": {
     "elapsed": 1296,
     "status": "error",
     "timestamp": 1608495874211,
     "user": {
      "displayName": "Don Koch",
      "photoUrl": "https://lh3.googleusercontent.com/a-/AOh14GizPaz5Q6VSf8iuBk-yy6t2E90NtjrjTJizHbMb=s64",
      "userId": "10116018109646484238"
     },
     "user_tz": 300
    },
    "id": "aKHkeWQdOT1r",
    "outputId": "07a3a027-d2f9-4be4-ac19-6cccf8b3859f"
   },
   "outputs": [],
   "source": [
    "# a string with parens, not a tuple\n",
    "not_a_tuple = ('a')\n",
    "print(f'The value of not_a_tuple is \"{not_a_tuple}\" and type is \"{type(not_a_tuple)}\"')"
   ]
  },
  {
   "cell_type": "code",
   "execution_count": null,
   "metadata": {
    "collapsed": false,
    "id": "gC4Kl8w-H5be"
   },
   "outputs": [],
   "source": [
    "# a tuple of an integer and two floats\n",
    "t1 = (3, 0.1, 0.04)\n",
    "print(t1)"
   ]
  },
  {
   "cell_type": "code",
   "execution_count": null,
   "metadata": {
    "collapsed": false,
    "id": "OkDs2ID-JT8T"
   },
   "outputs": [],
   "source": [
    "# operations on a tuple\n",
    "tup_sum = sum(t1)\n",
    "tup_sum"
   ]
  },
  {
   "cell_type": "code",
   "execution_count": null,
   "metadata": {
    "collapsed": false,
    "id": "icay8UXTJm2e"
   },
   "outputs": [],
   "source": [
    "# can't always operate on a tuple - error since you can't add numbers and strings\n",
    "t1 = (3, 0.1, 0.04, \"pi\") \n",
    "tupe_sum = sum(t1) "
   ]
  },
  {
   "cell_type": "code",
   "execution_count": null,
   "metadata": {
    "collapsed": false,
    "id": "I1rOSqRbF9s0"
   },
   "outputs": [],
   "source": [
    "# parenthese are optional\n",
    "\n",
    "t2 = 'a third', 1/3\n",
    "t2"
   ]
  },
  {
   "cell_type": "code",
   "execution_count": null,
   "metadata": {
    "collapsed": false,
    "id": "xCs3LRHrSA7V"
   },
   "outputs": [],
   "source": [
    "# parenthese are optional unless needed for clarity\n",
    "# e.g. a tuple of two tuples and a string\n",
    "    \n",
    "t3 =   (1, 2, 3), (4, 5, 6), \"Hello\"\n",
    "t3"
   ]
  },
  {
   "cell_type": "code",
   "execution_count": null,
   "metadata": {
    "collapsed": false,
    "id": "fTFcXLUbSz5Z"
   },
   "outputs": [],
   "source": [
    "# t3 and t4 are equavelant\n",
    "\n",
    "t4 = ((1, 2, 3), (4, 5, 6), \"Hello\")\n",
    "t3 == t4"
   ]
  },
  {
   "cell_type": "code",
   "execution_count": null,
   "metadata": {
    "collapsed": false,
    "id": "L0aOKQ7QSd2C"
   },
   "outputs": [],
   "source": [
    "# t5 is not the same as t3 and t4\n",
    "\n",
    "t5 = (1, 2, 3, 4, 5, 6, \"Hello\")\n",
    "t5 == t4"
   ]
  },
  {
   "cell_type": "code",
   "execution_count": null,
   "metadata": {
    "collapsed": false
   },
   "outputs": [],
   "source": [
    "# a tuple that contains a list - which is mutable\n",
    "t6 = ('abc', 'def', ['h','i','j'])\n",
    "t6"
   ]
  },
  {
   "cell_type": "code",
   "execution_count": null,
   "metadata": {
    "collapsed": false
   },
   "outputs": [],
   "source": [
    "# you can modify a mutable object inside a tuple\n",
    "t6[2][1] = 'k'\n",
    "t6"
   ]
  },
  {
   "cell_type": "markdown",
   "metadata": {
    "collapsed": false,
    "id": "QlmMzMwQKUTr"
   },
   "source": [
    "### Bytes\n",
    "* Immutable\n",
    "* Sequence of bytes\n",
    "* Bytes are 8-bit bytes, of values 0 <= x < 256"
   ]
  },
  {
   "cell_type": "code",
   "execution_count": null,
   "metadata": {
    "collapsed": false,
    "id": "m9B15Qy3KuiC"
   },
   "outputs": [],
   "source": [
    "a = b'abc'\n",
    "b = bytes('def', \"ascii\")\n",
    "print(f'The value of a is \"{a}\" and type is {type(a)}')\n",
    "print(f'The value of b is \"{b}\" and type is {type(b)}')"
   ]
  },
  {
   "cell_type": "markdown",
   "metadata": {
    "collapsed": false,
    "id": "hiCuzZ9FM-B6"
   },
   "source": [
    "### Lists\n",
    "The items of a list are arbitrary Python objects. Lists are formed by placing a comma-separated list of expressions in square brackets. (Note that there are no special cases needed to form lists of length 0 or 1.)"
   ]
  },
  {
   "cell_type": "code",
   "execution_count": null,
   "metadata": {
    "collapsed": false,
    "id": "n2U5wO6oNB7p"
   },
   "outputs": [],
   "source": [
    "l = [1, 2, 3]\n",
    "print(l)"
   ]
  },
  {
   "cell_type": "markdown",
   "metadata": {
    "collapsed": false,
    "id": "4hOmmGWUNI93"
   },
   "source": [
    "#### Byte Arrays\n",
    "A bytearray object is a mutable array. They are created by the built-in bytearray() constructor. Aside from being mutable (and hence unhashable), byte arrays otherwise provide the same interface and functionality as immutable bytes objects."
   ]
  },
  {
   "cell_type": "code",
   "execution_count": null,
   "metadata": {
    "collapsed": false,
    "id": "Tr1rlL0TRbX2"
   },
   "outputs": [],
   "source": [
    "b = "
   ]
  },
  {
   "cell_type": "markdown",
   "metadata": {
    "collapsed": false,
    "id": "3GG3dHJVRs9u"
   },
   "source": [
    "---\n",
    "<a class=\"anchor\" id=\"5\"></a>\n",
    "## Sets\n",
    "[Back to Table of Contents](#0)"
   ]
  },
  {
   "cell_type": "markdown",
   "metadata": {
    "collapsed": false,
    "id": "3GG3dHJVRs9u"
   },
   "source": [
    "### Properties\n",
    "* Set of immutable objects, which are...\n",
    "    * Unordered\n",
    "    * Finite \n",
    "    * Unique\n",
    "* Sets do not have indices \n",
    "* Sets can be itterated over\n",
    "\n",
    "#### Common uses:\n",
    "* fast membership testing, \n",
    "* removing duplicates from a sequence \n",
    "* computing mathematical operations such as intersection, union, difference, and symmetric difference."
   ]
  },
  {
   "cell_type": "markdown",
   "metadata": {
    "collapsed": false
   },
   "source": [
    "#### Two ways to create sets"
   ]
  },
  {
   "cell_type": "code",
   "execution_count": null,
   "metadata": {
    "collapsed": false
   },
   "outputs": [],
   "source": [
    "# give a list to the set() function\n",
    "a = set([2, 4, 6, 2, 3, 6, 6, 6, 4])\n",
    "a"
   ]
  },
  {
   "cell_type": "code",
   "execution_count": null,
   "metadata": {
    "collapsed": false
   },
   "outputs": [],
   "source": [
    "# set literal with curly braces\n",
    "b = {2, 2, 40, 60, 60, 70}\n",
    "b"
   ]
  },
  {
   "cell_type": "markdown",
   "metadata": {
    "collapsed": false
   },
   "source": [
    "#### Set Operations"
   ]
  },
  {
   "cell_type": "code",
   "execution_count": null,
   "metadata": {
    "collapsed": false
   },
   "outputs": [],
   "source": [
    "# Union\n",
    "a | b"
   ]
  },
  {
   "cell_type": "code",
   "execution_count": null,
   "metadata": {
    "collapsed": false
   },
   "outputs": [],
   "source": [
    "# Intersection\n",
    "a & b"
   ]
  },
  {
   "cell_type": "code",
   "execution_count": null,
   "metadata": {
    "collapsed": false
   },
   "outputs": [],
   "source": [
    "# Difference (elements in a that are not in b)\n",
    "a - b"
   ]
  },
  {
   "cell_type": "code",
   "execution_count": null,
   "metadata": {
    "collapsed": false
   },
   "outputs": [],
   "source": [
    "# Symmetric Difference (elements in either a or b but not both)\n",
    "a ^ b"
   ]
  },
  {
   "cell_type": "markdown",
   "metadata": {
    "collapsed": false,
    "id": "j5Wnm-fqSZsV"
   },
   "source": [
    "### Frozen Sets\n",
    "* These represent an immutable set. They are created by the built-in frozenset() constructor. As a frozenset is immutable and hashable, it can be used again as an element of another set, or as a dictionary key."
   ]
  },
  {
   "cell_type": "markdown",
   "metadata": {
    "collapsed": false,
    "id": "0aQVasBdSgUY"
   },
   "source": [
    "## Mappings\n",
    "* These represent finite sets of objects indexed by arbitrary index sets. The subscript notation a[k] selects the item indexed by k from the mapping a; this can be used in expressions and as the target of assignments or del statements. The built-in function len() returns the number of items in a mapping.\n",
    "\n",
    "#### Dictionaries\n",
    "* finite sets of objects with arbitrary indexes\n",
    "* index values must be immutable (a key's hash value must remain constant)\n",
    "* insertion order is preserved"
   ]
  },
  {
   "cell_type": "code",
   "execution_count": null,
   "metadata": {
    "collapsed": false
   },
   "outputs": [],
   "source": [
    "dictionary = {'a': 1, 'b': 2, 'c':3}\n",
    "dictionary"
   ]
  },
  {
   "cell_type": "markdown",
   "metadata": {
    "collapsed": false,
    "id": "cVAL16lU1RXE"
   },
   "source": [
    "# Additional Topics\n",
    "* numpy and pandas and matplotlib\n",
    "* deep dive on data frames - compare with sas datasets\n",
    "* python packing and pypi.org, etc\n",
    "\n"
   ]
  },
  {
   "cell_type": "markdown",
   "metadata": {
    "collapsed": false,
    "id": "JjUlkVo74dpt"
   },
   "source": [
    "### Special Objects"
   ]
  },
  {
   "cell_type": "markdown",
   "metadata": {
    "collapsed": false,
    "id": "W7-2-eByUXNQ"
   },
   "source": [
    "####  None\n",
    "* Object of type \"NoneType\"\n",
    "* Has no other value\n",
    "* There is only one None\n"
   ]
  },
  {
   "cell_type": "code",
   "execution_count": null,
   "metadata": {
    "colab": {
     "base_uri": "https://localhost:8080/"
    },
    "collapsed": false,
    "executionInfo": {
     "elapsed": 1334,
     "status": "ok",
     "timestamp": 1608496223717,
     "user": {
      "displayName": "Don Koch",
      "photoUrl": "https://lh3.googleusercontent.com/a-/AOh14GizPaz5Q6VSf8iuBk-yy6t2E90NtjrjTJizHbMb=s64",
      "userId": "10116018109646484238"
     },
     "user_tz": 300
    },
    "id": "l9_th8ef1Lro",
    "outputId": "4c337a35-c286-4ead-bdbf-1562017ed32e"
   },
   "outputs": [],
   "source": [
    "a = None\n",
    "print(f\"a is of type {type(a)} at address {id(a)}\")\n",
    "b = None\n",
    "print(f\"b is of type {type(b)} at address {id(b)}\")"
   ]
  },
  {
   "cell_type": "markdown",
   "metadata": {
    "collapsed": false,
    "id": "HNBljiSr4sRS"
   },
   "source": [
    "#### NotImplimented\n",
    "* Object of type \"NotImplimentedType\"\n",
    "* Has no other value\n",
    "* There is only one NotImplimented"
   ]
  },
  {
   "cell_type": "code",
   "execution_count": null,
   "metadata": {
    "colab": {
     "base_uri": "https://localhost:8080/"
    },
    "collapsed": false,
    "executionInfo": {
     "elapsed": 887,
     "status": "ok",
     "timestamp": 1608495873784,
     "user": {
      "displayName": "Don Koch",
      "photoUrl": "https://lh3.googleusercontent.com/a-/AOh14GizPaz5Q6VSf8iuBk-yy6t2E90NtjrjTJizHbMb=s64",
      "userId": "10116018109646484238"
     },
     "user_tz": 300
    },
    "id": "sJvy-rKa5CKm",
    "outputId": "8c8a5160-bca4-48e9-e27d-3eb94900ba10"
   },
   "outputs": [],
   "source": [
    "m = NotImplemented\n",
    "print(f\"m is of type {type(m)} at address {id(m)}\")\n",
    "n = NotImplemented\n",
    "print(f\"n is of type {type(n)} at address {id(n)}\")"
   ]
  },
  {
   "cell_type": "markdown",
   "metadata": {
    "collapsed": false,
    "id": "fm5dBC1L5mS2"
   },
   "source": [
    "#### Ellipsis\n",
    "* Object of type \"ellipsis\"\n",
    "* Has no other value\n",
    "* Truth value is True\n",
    "* There is only one Ellipsis\n",
    "* Useful for slicing multi-dimensional arrays in Numpy"
   ]
  },
  {
   "cell_type": "code",
   "execution_count": null,
   "metadata": {
    "colab": {
     "base_uri": "https://localhost:8080/"
    },
    "collapsed": false,
    "executionInfo": {
     "elapsed": 884,
     "status": "ok",
     "timestamp": 1608495873785,
     "user": {
      "displayName": "Don Koch",
      "photoUrl": "https://lh3.googleusercontent.com/a-/AOh14GizPaz5Q6VSf8iuBk-yy6t2E90NtjrjTJizHbMb=s64",
      "userId": "10116018109646484238"
     },
     "user_tz": 300
    },
    "id": "4V62FtPV6NgZ",
    "outputId": "db699c53-fe3a-42eb-8b13-a2f7b83c8337"
   },
   "outputs": [],
   "source": [
    "e = Ellipsis\n",
    "print(f\"e is of type {type(e)} at address {id(e)}\")\n",
    "if e:\n",
    "    print(\"e is True\")"
   ]
  }
 ],
 "metadata": {
  "colab": {
   "authorship_tag": "ABX9TyOJqnKF1h9lOYBASanrhKiw",
   "collapsed_sections": null,
   "mount_file_id": "16wgF3CthOc5yuHtHQmDrY1sVaud2j0ek",
   "name": "Introduction.ipynb",
   "provenance": null
  },
  "kernelspec": {
   "argv": [
    "python",
    "-m",
    "ipykernel_launcher",
    "-f",
    "{connection_file}"
   ],
   "display_name": "Python 3",
   "env": null,
   "interrupt_mode": "signal",
   "language": "python",
   "metadata": null,
   "name": "python3"
  },
  "language_info": {
   "codemirror_mode": {
    "name": "ipython",
    "version": 3
   },
   "file_extension": ".py",
   "mimetype": "text/x-python",
   "name": "python",
   "nbconvert_exporter": "python",
   "pygments_lexer": "ipython3",
   "version": "3.8.2"
  },
  "name": "01_Intro_Python_Data_Structures.ipynb"
 },
 "nbformat": 4,
 "nbformat_minor": 4
}
