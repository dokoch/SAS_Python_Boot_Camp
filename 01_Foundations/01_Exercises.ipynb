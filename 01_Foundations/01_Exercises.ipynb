{
 "cells": [
  {
   "cell_type": "markdown",
   "id": "hybrid-power",
   "metadata": {},
   "source": [
    "Q1: Which statement is True?\n",
    "1. b is a copy of a\n",
    "1. b and a point to the same object\n",
    "1. b and a point to different objects that have the same value"
   ]
  },
  {
   "cell_type": "code",
   "execution_count": 1,
   "id": "accessible-silence",
   "metadata": {},
   "outputs": [],
   "source": [
    "# Put your answer here => 2"
   ]
  },
  {
   "cell_type": "code",
   "execution_count": 3,
   "id": "severe-nation",
   "metadata": {},
   "outputs": [],
   "source": [
    "a = 3.14\n",
    "b = a"
   ]
  },
  {
   "cell_type": "markdown",
   "id": "biological-tunnel",
   "metadata": {},
   "source": [
    "Q2: How can I verify which answer is correct?"
   ]
  },
  {
   "cell_type": "code",
   "execution_count": 4,
   "id": "novel-lotus",
   "metadata": {},
   "outputs": [
    {
     "data": {
      "text/plain": [
       "True"
      ]
     },
     "execution_count": 4,
     "metadata": {},
     "output_type": "execute_result"
    }
   ],
   "source": [
    "# Put your code here\n",
    "b is a"
   ]
  },
  {
   "cell_type": "markdown",
   "id": "focused-veteran",
   "metadata": {},
   "source": [
    "---\n",
    "Q3: Given this function definition"
   ]
  },
  {
   "cell_type": "code",
   "execution_count": 5,
   "id": "charitable-diesel",
   "metadata": {},
   "outputs": [],
   "source": [
    "def test(b):\n",
    "    print(\"Executed\")\n",
    "    return b"
   ]
  },
  {
   "cell_type": "markdown",
   "id": "actual-justice",
   "metadata": {},
   "source": [
    "Why did we get each of these outputa?"
   ]
  },
  {
   "cell_type": "code",
   "execution_count": 11,
   "id": "departmental-salmon",
   "metadata": {},
   "outputs": [
    {
     "name": "stdout",
     "output_type": "stream",
     "text": [
      "Executed\n"
     ]
    },
    {
     "data": {
      "text/plain": [
       "True"
      ]
     },
     "execution_count": 11,
     "metadata": {},
     "output_type": "execute_result"
    }
   ],
   "source": [
    "# Answer: Calling the test function prints \"Executed\" and returns the same value passed to it which is True. \n",
    "test(True)"
   ]
  },
  {
   "cell_type": "code",
   "execution_count": 12,
   "id": "empty-giant",
   "metadata": {},
   "outputs": [
    {
     "name": "stdout",
     "output_type": "stream",
     "text": [
      "Executed\n"
     ]
    },
    {
     "data": {
      "text/plain": [
       "False"
      ]
     },
     "execution_count": 12,
     "metadata": {},
     "output_type": "execute_result"
    }
   ],
   "source": [
    "# Answer: The 'or' operator requires only one of the two statemets to be true.\n",
    "#         Since the first was False python must check the second one thus running test(False).\n",
    "#         The test() returns False so the entire statement is False\n",
    "False or test(False)"
   ]
  },
  {
   "cell_type": "code",
   "execution_count": 8,
   "id": "exclusive-laundry",
   "metadata": {},
   "outputs": [
    {
     "data": {
      "text/plain": [
       "True"
      ]
     },
     "execution_count": 8,
     "metadata": {},
     "output_type": "execute_result"
    }
   ],
   "source": [
    "# Answer: The 'or' operator requires only one of the two statemets to be true.\n",
    "#         Since the first was True python wont check the second one thus does not run test(False).\n",
    "True or test(False)"
   ]
  },
  {
   "cell_type": "code",
   "execution_count": 9,
   "id": "affected-eight",
   "metadata": {},
   "outputs": [
    {
     "name": "stdout",
     "output_type": "stream",
     "text": [
      "Executed\n"
     ]
    },
    {
     "data": {
      "text/plain": [
       "True"
      ]
     },
     "execution_count": 9,
     "metadata": {},
     "output_type": "execute_result"
    }
   ],
   "source": [
    "# Answer: The 'and' operator requires both of the two statemets to be true.\n",
    "#         Since the first was True python must check the second one thus running test(False).\n",
    "True and test(True)"
   ]
  },
  {
   "cell_type": "code",
   "execution_count": 13,
   "id": "micro-gabriel",
   "metadata": {},
   "outputs": [
    {
     "data": {
      "text/plain": [
       "False"
      ]
     },
     "execution_count": 13,
     "metadata": {},
     "output_type": "execute_result"
    }
   ],
   "source": [
    "# Answer: The 'and' operator requires both of the two statemets to be true.\n",
    "#         Since the first was False python wont check the second one thus does not run test(False).\n",
    "False and test(True)"
   ]
  },
  {
   "cell_type": "markdown",
   "id": "realistic-cliff",
   "metadata": {},
   "source": [
    "---\n",
    "Q4: Create a new Python Integer object that contains the cube of 4 and is pointed to by the variable \"four_cubed\""
   ]
  },
  {
   "cell_type": "code",
   "execution_count": 15,
   "id": "suitable-middle",
   "metadata": {},
   "outputs": [
    {
     "data": {
      "text/plain": [
       "64"
      ]
     },
     "execution_count": 15,
     "metadata": {},
     "output_type": "execute_result"
    }
   ],
   "source": [
    "# Put your statement here\n",
    "four_cubed = 4**3\n",
    "four_cubed"
   ]
  },
  {
   "cell_type": "markdown",
   "id": "affected-interval",
   "metadata": {},
   "source": [
    "---\n",
    "Q4: Create a tuple t1 which contains the integers 1, 2 and 3 and a tuple t2 which contains the integers 4, 5 and 6.\\\n",
    "Using t1 and t2, create a tuple t3 which is the combination of t1 and t2."
   ]
  },
  {
   "cell_type": "code",
   "execution_count": 18,
   "id": "convertible-lightning",
   "metadata": {},
   "outputs": [
    {
     "data": {
      "text/plain": [
       "(1, 2, 3, 4, 5, 6)"
      ]
     },
     "execution_count": 18,
     "metadata": {},
     "output_type": "execute_result"
    }
   ],
   "source": [
    "# Put your code here\n",
    "t1 = (1, 2, 3)\n",
    "t2 = (4, 5,6)\n",
    "t3 = t1 + t2\n",
    "t3"
   ]
  },
  {
   "cell_type": "markdown",
   "id": "future-approval",
   "metadata": {},
   "source": [
    "---\n",
    "Q4: What is the simplest code to find the sum of all of the elements of t3?"
   ]
  },
  {
   "cell_type": "code",
   "execution_count": 19,
   "id": "meaning-verification",
   "metadata": {},
   "outputs": [
    {
     "data": {
      "text/plain": [
       "21"
      ]
     },
     "execution_count": 19,
     "metadata": {},
     "output_type": "execute_result"
    }
   ],
   "source": [
    "# Put your code here\n",
    "sum(t3)"
   ]
  },
  {
   "cell_type": "markdown",
   "id": "special-coverage",
   "metadata": {},
   "source": [
    "---\n",
    "Q5: This tuple has three objects. What are the types of each object in the order that they are given? "
   ]
  },
  {
   "cell_type": "code",
   "execution_count": 21,
   "id": "surgical-liberty",
   "metadata": {},
   "outputs": [
    {
     "name": "stdout",
     "output_type": "stream",
     "text": [
      "\n",
      "<class 'tuple'>\n",
      "<class 'list'>\n",
      "<class 'set'>\n",
      "\n"
     ]
    }
   ],
   "source": [
    "# Put your answers here => Tuple, List, Set\n",
    "t = (('a', 'b', 'c'), ['a', 'b', 'c'], {'a', 'b', 'c'})\n",
    "print(f'''\n",
    "{type(t[0])}\n",
    "{type(t[1])}\n",
    "{type(t[2])}\n",
    "''')"
   ]
  },
  {
   "cell_type": "markdown",
   "id": "national-revolution",
   "metadata": {},
   "source": [
    "---\n",
    "Q6: Although a tuple is immutable, the objects inside a tuple may be mutable.\n",
    "What statement would I use to add a 'd' to the second object?"
   ]
  },
  {
   "cell_type": "code",
   "execution_count": 22,
   "id": "radical-horizontal",
   "metadata": {},
   "outputs": [
    {
     "data": {
      "text/plain": [
       "(('a', 'b', 'c'), ['a', 'b', 'c', 'd'], {'a', 'b', 'c'})"
      ]
     },
     "execution_count": 22,
     "metadata": {},
     "output_type": "execute_result"
    }
   ],
   "source": [
    "# Put your code here\n",
    "t[1].append('d')\n",
    "t"
   ]
  },
  {
   "cell_type": "markdown",
   "id": "assisted-infrastructure",
   "metadata": {},
   "source": [
    "---\n",
    "Q7: Give the string s, how would you extract only the word 'Python'?\\\n",
    "    There are multiple right answers"
   ]
  },
  {
   "cell_type": "code",
   "execution_count": 24,
   "id": "demographic-characteristic",
   "metadata": {},
   "outputs": [
    {
     "data": {
      "text/plain": [
       "' Python'"
      ]
     },
     "execution_count": 24,
     "metadata": {},
     "output_type": "execute_result"
    }
   ],
   "source": [
    "s = 'The Zen of Python'\n",
    "# Put your code here\n",
    "s[10:]"
   ]
  },
  {
   "cell_type": "markdown",
   "id": "specified-commons",
   "metadata": {},
   "source": [
    "---\n",
    "Q8: Create a dictionary with the following key/value pairs:\n",
    "\n",
    "<table style='justify:left'>\n",
    "    <tr>\n",
    "        <th>Key</th>\n",
    "        <th>Value</th>\n",
    "    </tr>\n",
    "    <tr>\n",
    "        <td>A</td>\n",
    "        <td>Apple</td>\n",
    "    </tr>\n",
    "    <tr>\n",
    "        <td>B</td>\n",
    "        <td>Bacon</td>\n",
    "    </tr>\n",
    "    <tr>\n",
    "        <td>C</td>\n",
    "        <td>Cat</td>\n",
    "    </tr>\n",
    "</table>"
   ]
  },
  {
   "cell_type": "code",
   "execution_count": 26,
   "id": "charming-bookmark",
   "metadata": {},
   "outputs": [
    {
     "data": {
      "text/plain": [
       "{'A': 'Apple', 'B': 'Bacon', 'C': 'Cat'}"
      ]
     },
     "execution_count": 26,
     "metadata": {},
     "output_type": "execute_result"
    }
   ],
   "source": [
    "# Put your code here\n",
    "d = {'A': 'Apple', 'B': 'Bacon', 'C': 'Cat'}\n",
    "d"
   ]
  },
  {
   "cell_type": "markdown",
   "id": "elementary-bailey",
   "metadata": {},
   "source": [
    "---\n",
    "Q9: Using a format string, print out the following:\\\n",
    "```The Cat likes Bacon but won't eat Apples```\n",
    "    "
   ]
  },
  {
   "cell_type": "code",
   "execution_count": 27,
   "id": "departmental-kazakhstan",
   "metadata": {},
   "outputs": [
    {
     "name": "stdout",
     "output_type": "stream",
     "text": [
      "The Cat likes Bacon but won't eat Apples\n"
     ]
    }
   ],
   "source": [
    "# Put your answer between the quotes below\n",
    "print(f\"The {d['C']} likes {d['B']} but won't eat {d['A']}s\")"
   ]
  },
  {
   "cell_type": "markdown",
   "id": "shaped-contest",
   "metadata": {},
   "source": [
    "---\n",
    "Q10: What's the easiest way to sort this list?"
   ]
  },
  {
   "cell_type": "code",
   "execution_count": 28,
   "id": "irish-fruit",
   "metadata": {},
   "outputs": [],
   "source": [
    "l = ['A', 'G', 'C', 'X', '%', '*']"
   ]
  },
  {
   "cell_type": "code",
   "execution_count": 30,
   "id": "cognitive-acoustic",
   "metadata": {},
   "outputs": [
    {
     "data": {
      "text/plain": [
       "['%', '*', 'A', 'C', 'G', 'X']"
      ]
     },
     "execution_count": 30,
     "metadata": {},
     "output_type": "execute_result"
    }
   ],
   "source": [
    "# Put your code here\n",
    "l.sort()\n",
    "l"
   ]
  }
 ],
 "metadata": {
  "kernelspec": {
   "display_name": "Python 3",
   "language": "python",
   "name": "python3"
  },
  "language_info": {
   "codemirror_mode": {
    "name": "ipython",
    "version": 3
   },
   "file_extension": ".py",
   "mimetype": "text/x-python",
   "name": "python",
   "nbconvert_exporter": "python",
   "pygments_lexer": "ipython3",
   "version": "3.8.5"
  }
 },
 "nbformat": 4,
 "nbformat_minor": 5
}
