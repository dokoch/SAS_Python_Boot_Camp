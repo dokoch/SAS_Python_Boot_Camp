{
 "cells": [
  {
   "cell_type": "markdown",
   "id": "sought-chambers",
   "metadata": {},
   "source": [
    "Q1: Which statement is True?\n",
    "1. b is a copy of a\n",
    "1. b and a point to the same object\n",
    "1. b and a point to different objects that have the same value"
   ]
  },
  {
   "cell_type": "code",
   "execution_count": 21,
   "id": "restricted-banking",
   "metadata": {},
   "outputs": [],
   "source": [
    "# Put your answer here => "
   ]
  },
  {
   "cell_type": "code",
   "execution_count": 22,
   "id": "supreme-stream",
   "metadata": {},
   "outputs": [],
   "source": [
    "a = 3.14\n",
    "b = a"
   ]
  },
  {
   "cell_type": "markdown",
   "id": "governing-chorus",
   "metadata": {},
   "source": [
    "Q2: How can I verify which answer is correct?"
   ]
  },
  {
   "cell_type": "code",
   "execution_count": 24,
   "id": "optimum-chocolate",
   "metadata": {},
   "outputs": [],
   "source": [
    "# Put your code here\n"
   ]
  },
  {
   "cell_type": "markdown",
   "id": "exterior-cancer",
   "metadata": {},
   "source": [
    "---\n",
    "Q3: Given this function definition"
   ]
  },
  {
   "cell_type": "code",
   "execution_count": 25,
   "id": "located-cable",
   "metadata": {},
   "outputs": [],
   "source": [
    "def test(b):\n",
    "    print(\"Executed\")\n",
    "    return b"
   ]
  },
  {
   "cell_type": "markdown",
   "id": "solid-uniform",
   "metadata": {},
   "source": [
    "Why did we get each of these outputa?"
   ]
  },
  {
   "cell_type": "code",
   "execution_count": null,
   "id": "undefined-worth",
   "metadata": {},
   "outputs": [],
   "source": [
    "# Answer: \n",
    "test(True)"
   ]
  },
  {
   "cell_type": "code",
   "execution_count": null,
   "id": "basic-freight",
   "metadata": {},
   "outputs": [],
   "source": [
    "# Answer:\n",
    "False or test(False)"
   ]
  },
  {
   "cell_type": "code",
   "execution_count": null,
   "id": "useful-triumph",
   "metadata": {},
   "outputs": [],
   "source": [
    "# Answer:\n",
    "True or test(False)"
   ]
  },
  {
   "cell_type": "code",
   "execution_count": null,
   "id": "hydraulic-length",
   "metadata": {},
   "outputs": [],
   "source": [
    "# Answer:\n",
    "True and test(True)"
   ]
  },
  {
   "cell_type": "code",
   "execution_count": null,
   "id": "rational-contractor",
   "metadata": {},
   "outputs": [],
   "source": [
    "# Answer:\n",
    "False and test(True)"
   ]
  },
  {
   "cell_type": "markdown",
   "id": "major-somalia",
   "metadata": {},
   "source": [
    "---\n",
    "Q4: Create a new Python Integer object that contains the cube of 4 and is pointed to by the variable \"four_cubed\""
   ]
  },
  {
   "cell_type": "code",
   "execution_count": null,
   "id": "employed-florida",
   "metadata": {},
   "outputs": [],
   "source": [
    "# Put your statement here\n"
   ]
  },
  {
   "cell_type": "markdown",
   "id": "swedish-evaluation",
   "metadata": {},
   "source": [
    "---\n",
    "Q4: Create a tuple t1 which contains the integers 1, 2 and 3 and a tuple t2 which contains the integers 4, 5 and 6.\\\n",
    "Using t1 and t2, create a tuple t3 which is the combination of t1 and t2."
   ]
  },
  {
   "cell_type": "code",
   "execution_count": 30,
   "id": "vertical-brooks",
   "metadata": {},
   "outputs": [],
   "source": [
    "# Put your code here\n",
    "\n",
    "\n"
   ]
  },
  {
   "cell_type": "markdown",
   "id": "approved-context",
   "metadata": {},
   "source": [
    "---\n",
    "Q4: What is the simplest code to find the sum of all of the elements of t3?"
   ]
  },
  {
   "cell_type": "code",
   "execution_count": 32,
   "id": "committed-criminal",
   "metadata": {},
   "outputs": [],
   "source": [
    "# Put your code here\n"
   ]
  },
  {
   "cell_type": "markdown",
   "id": "jewish-lender",
   "metadata": {},
   "source": [
    "---\n",
    "Q5: This tuple has three objects. What are the types of each object in the order that they are given? "
   ]
  },
  {
   "cell_type": "code",
   "execution_count": 36,
   "id": "confidential-brass",
   "metadata": {},
   "outputs": [],
   "source": [
    "# Put your answers here =>\n",
    "t = (('a', 'b', 'c'), ['a', 'b', 'c'], {'a', 'b', 'c'})"
   ]
  },
  {
   "cell_type": "markdown",
   "id": "monthly-simple",
   "metadata": {},
   "source": [
    "---\n",
    "Q6: Although a tuple is immutable, the objects inside a tuple may be mutable.\n",
    "What statement would I use to add a 'd' to the second object?"
   ]
  },
  {
   "cell_type": "code",
   "execution_count": 40,
   "id": "powerful-spine",
   "metadata": {},
   "outputs": [],
   "source": [
    "# Put your code here\n"
   ]
  },
  {
   "cell_type": "markdown",
   "id": "reserved-million",
   "metadata": {},
   "source": [
    "---\n",
    "Q7: Give the string s, how would you extract only the word 'Python'?\\\n",
    "    There are multiple right answers"
   ]
  },
  {
   "cell_type": "code",
   "execution_count": 47,
   "id": "gentle-compatibility",
   "metadata": {},
   "outputs": [],
   "source": [
    "s = 'The Zen of Python'\n",
    "# Put your code here\n"
   ]
  },
  {
   "cell_type": "markdown",
   "id": "turned-novelty",
   "metadata": {},
   "source": [
    "---\n",
    "Q8: Create a dictionary with the following key/value pairs:\n",
    "\n",
    "<table style='justify:left'>\n",
    "    <tr>\n",
    "        <th>Key</th>\n",
    "        <th>Value</th>\n",
    "    </tr>\n",
    "    <tr>\n",
    "        <td>A</td>\n",
    "        <td>Apple</td>\n",
    "    </tr>\n",
    "    <tr>\n",
    "        <td>B</td>\n",
    "        <td>Bacon</td>\n",
    "    </tr>\n",
    "    <tr>\n",
    "        <td>C</td>\n",
    "        <td>Cat</td>\n",
    "    </tr>\n",
    "</table>"
   ]
  },
  {
   "cell_type": "code",
   "execution_count": 49,
   "id": "prescribed-inflation",
   "metadata": {},
   "outputs": [],
   "source": [
    "# Put your code here\n"
   ]
  },
  {
   "cell_type": "markdown",
   "id": "former-siemens",
   "metadata": {},
   "source": [
    "---\n",
    "Q9: Using a format string, print out the following:\\\n",
    "```The Cat likes Bacon but won't eat Apples```\n",
    "    "
   ]
  },
  {
   "cell_type": "code",
   "execution_count": 50,
   "id": "detected-watson",
   "metadata": {},
   "outputs": [
    {
     "name": "stdout",
     "output_type": "stream",
     "text": [
      " \n"
     ]
    }
   ],
   "source": [
    "# Put your answer between the quotes below\n",
    "print(f\" \")"
   ]
  },
  {
   "cell_type": "markdown",
   "id": "peaceful-moore",
   "metadata": {},
   "source": [
    "---\n",
    "Q10: What's the easiest way to sort this list?"
   ]
  },
  {
   "cell_type": "code",
   "execution_count": 53,
   "id": "orange-failure",
   "metadata": {},
   "outputs": [],
   "source": [
    "l = ['A', 'G', 'C', 'X', '%', '*']"
   ]
  },
  {
   "cell_type": "code",
   "execution_count": 56,
   "id": "editorial-backing",
   "metadata": {},
   "outputs": [],
   "source": [
    "# Put your code here\n"
   ]
  }
 ],
 "metadata": {
  "kernelspec": {
   "display_name": "Python 3",
   "language": "python",
   "name": "python3"
  },
  "language_info": {
   "codemirror_mode": {
    "name": "ipython",
    "version": 3
   },
   "file_extension": ".py",
   "mimetype": "text/x-python",
   "name": "python",
   "nbconvert_exporter": "python",
   "pygments_lexer": "ipython3",
   "version": "3.8.5"
  }
 },
 "nbformat": 4,
 "nbformat_minor": 5
}
