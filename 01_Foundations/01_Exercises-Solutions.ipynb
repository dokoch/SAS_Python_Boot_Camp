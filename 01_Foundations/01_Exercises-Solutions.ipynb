{
 "cells": [
  {
   "cell_type": "markdown",
   "id": "working-private",
   "metadata": {},
   "source": [
    "Q1: Which statement is True?\n",
    "1. b is a copy of a\n",
    "1. b and a point to the same object\n",
    "1. b and a point to different objects that have the same value"
   ]
  },
  {
   "cell_type": "code",
   "execution_count": 21,
   "id": "suburban-flooring",
   "metadata": {},
   "outputs": [],
   "source": [
    "# Put your answer here => "
   ]
  },
  {
   "cell_type": "code",
   "execution_count": 22,
   "id": "separated-conservative",
   "metadata": {},
   "outputs": [],
   "source": [
    "a = 3.14\n",
    "b = a"
   ]
  },
  {
   "cell_type": "markdown",
   "id": "rural-evening",
   "metadata": {},
   "source": [
    "Q2: How can I verify which answer is correct?"
   ]
  },
  {
   "cell_type": "code",
   "execution_count": 24,
   "id": "bound-grace",
   "metadata": {},
   "outputs": [],
   "source": [
    "# Put your code here\n"
   ]
  },
  {
   "cell_type": "markdown",
   "id": "missing-marriage",
   "metadata": {},
   "source": [
    "---\n",
    "Q3: Given this function definition"
   ]
  },
  {
   "cell_type": "code",
   "execution_count": 25,
   "id": "anticipated-cocktail",
   "metadata": {},
   "outputs": [],
   "source": [
    "def test(b):\n",
    "    print(\"Executed\")\n",
    "    return b"
   ]
  },
  {
   "cell_type": "markdown",
   "id": "stable-senate",
   "metadata": {},
   "source": [
    "Why did we get each of these outputa?"
   ]
  },
  {
   "cell_type": "code",
   "execution_count": null,
   "id": "several-possession",
   "metadata": {},
   "outputs": [],
   "source": [
    "# Answer: \n",
    "test(True)"
   ]
  },
  {
   "cell_type": "code",
   "execution_count": null,
   "id": "vertical-logging",
   "metadata": {},
   "outputs": [],
   "source": [
    "# Answer:\n",
    "False or test(False)"
   ]
  },
  {
   "cell_type": "code",
   "execution_count": null,
   "id": "collected-scout",
   "metadata": {},
   "outputs": [],
   "source": [
    "# Answer:\n",
    "True or test(False)"
   ]
  },
  {
   "cell_type": "code",
   "execution_count": null,
   "id": "mighty-identification",
   "metadata": {},
   "outputs": [],
   "source": [
    "# Answer:\n",
    "True and test(True)"
   ]
  },
  {
   "cell_type": "code",
   "execution_count": null,
   "id": "criminal-lyric",
   "metadata": {},
   "outputs": [],
   "source": [
    "# Answer:\n",
    "False and test(True)"
   ]
  },
  {
   "cell_type": "markdown",
   "id": "united-ireland",
   "metadata": {},
   "source": [
    "---\n",
    "Q4: Create a new Python Integer object that contains the cube of 4 and is pointed to by the variable \"four_cubed\""
   ]
  },
  {
   "cell_type": "code",
   "execution_count": null,
   "id": "impressed-grammar",
   "metadata": {},
   "outputs": [],
   "source": [
    "# Put your statement here\n"
   ]
  },
  {
   "cell_type": "markdown",
   "id": "other-butterfly",
   "metadata": {},
   "source": [
    "---\n",
    "Q5: Create a tuple t1 which contains the integers 1, 2 and 3 and a tuple t2 which contains the integers 4, 5 and 6.\\\n",
    "Using t1 and t2, create a tuple t3 which is the combination of t1 and t2."
   ]
  },
  {
   "cell_type": "code",
   "execution_count": 30,
   "id": "published-dayton",
   "metadata": {},
   "outputs": [],
   "source": [
    "# Put your code here\n",
    "\n",
    "\n"
   ]
  },
  {
   "cell_type": "markdown",
   "id": "attended-lodging",
   "metadata": {},
   "source": [
    "---\n",
    "Q6: What is the simplest code to find the sum of all of the elements of t3?"
   ]
  },
  {
   "cell_type": "code",
   "execution_count": 32,
   "id": "diagnostic-karma",
   "metadata": {},
   "outputs": [],
   "source": [
    "# Put your code here\n"
   ]
  },
  {
   "cell_type": "markdown",
   "id": "opponent-bidding",
   "metadata": {},
   "source": [
    "---\n",
    "Q7: This tuple has three objects. What are the types of each object in the order that they are given? "
   ]
  },
  {
   "cell_type": "code",
   "execution_count": 36,
   "id": "hidden-catch",
   "metadata": {},
   "outputs": [],
   "source": [
    "# Put your answers here =>\n",
    "t = (('a', 'b', 'c'), ['a', 'b', 'c'], {'a', 'b', 'c'})"
   ]
  },
  {
   "cell_type": "markdown",
   "id": "hidden-personal",
   "metadata": {},
   "source": [
    "---\n",
    "Q8: Although a tuple is immutable, the objects inside a tuple may be mutable.\n",
    "What statement would I use to add a 'd' to the second object?"
   ]
  },
  {
   "cell_type": "code",
   "execution_count": 40,
   "id": "inside-content",
   "metadata": {},
   "outputs": [],
   "source": [
    "# Put your code here\n"
   ]
  },
  {
   "cell_type": "markdown",
   "id": "cellular-blood",
   "metadata": {},
   "source": [
    "---\n",
    "Q9: Give the string s, how would you extract only the word 'Python'?\\\n",
    "    There are multiple right answers"
   ]
  },
  {
   "cell_type": "code",
   "execution_count": 47,
   "id": "right-building",
   "metadata": {},
   "outputs": [],
   "source": [
    "s = 'The Zen of Python'\n",
    "# Put your code here\n"
   ]
  },
  {
   "cell_type": "markdown",
   "id": "expired-paris",
   "metadata": {},
   "source": [
    "---\n",
    "Q10: Create a dictionary with the following key/value pairs:\n",
    "\n",
    "<table style='justify:left'>\n",
    "    <tr>\n",
    "        <th>Key</th>\n",
    "        <th>Value</th>\n",
    "    </tr>\n",
    "    <tr>\n",
    "        <td>A</td>\n",
    "        <td>Apple</td>\n",
    "    </tr>\n",
    "    <tr>\n",
    "        <td>B</td>\n",
    "        <td>Bacon</td>\n",
    "    </tr>\n",
    "    <tr>\n",
    "        <td>C</td>\n",
    "        <td>Cat</td>\n",
    "    </tr>\n",
    "</table>"
   ]
  },
  {
   "cell_type": "code",
   "execution_count": 49,
   "id": "adopted-arrest",
   "metadata": {},
   "outputs": [],
   "source": [
    "# Put your code here\n"
   ]
  },
  {
   "cell_type": "markdown",
   "id": "charged-processor",
   "metadata": {},
   "source": [
    "---\n",
    "Q10: Using a format string, print out the following:\\\n",
    "```The Cat likes Bacon but won't eat Apples```\n",
    "    "
   ]
  },
  {
   "cell_type": "code",
   "execution_count": 50,
   "id": "three-placement",
   "metadata": {},
   "outputs": [
    {
     "name": "stdout",
     "output_type": "stream",
     "text": [
      " \n"
     ]
    }
   ],
   "source": [
    "# Put your answer between the quotes below\n",
    "print(f\" \")"
   ]
  },
  {
   "cell_type": "markdown",
   "id": "ahead-lunch",
   "metadata": {},
   "source": [
    "---\n",
    "Q11: What's the easiest way to sort this list?"
   ]
  },
  {
   "cell_type": "code",
   "execution_count": 53,
   "id": "available-stranger",
   "metadata": {},
   "outputs": [],
   "source": [
    "l = ['A', 'G', 'C', 'X', '%', '*']"
   ]
  },
  {
   "cell_type": "code",
   "execution_count": 56,
   "id": "tribal-tooth",
   "metadata": {},
   "outputs": [],
   "source": [
    "# Put your code here\n"
   ]
  }
 ],
 "metadata": {
  "kernelspec": {
   "display_name": "Python 3",
   "language": "python",
   "name": "python3"
  },
  "language_info": {
   "codemirror_mode": {
    "name": "ipython",
    "version": 3
   },
   "file_extension": ".py",
   "mimetype": "text/x-python",
   "name": "python",
   "nbconvert_exporter": "python",
   "pygments_lexer": "ipython3",
   "version": "3.8.5"
  }
 },
 "nbformat": 4,
 "nbformat_minor": 5
}
