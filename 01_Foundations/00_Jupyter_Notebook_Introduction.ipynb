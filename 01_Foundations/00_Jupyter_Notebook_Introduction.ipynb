{
 "cells": [
  {
   "cell_type": "markdown",
   "metadata": {
    "id": "rVQOnZDGKSGE"
   },
   "source": [
    "# Navigating Jupyter Notebooks"
   ]
  },
  {
   "cell_type": "markdown",
   "metadata": {},
   "source": [
    "JupyterLab is based on Jupyter Notebooks.  Each Notebook is composed of one or more **cells** and is associated with a **kernel**. \n",
    "\n",
    "## Kernels\n",
    "Kernels are the execution engines which execute programming languages such as **Ju**lia, **Py**thon or **R** (hence Jupyter). Today many other languages are also supported by Jupyter.  We will only be dealing with Python kernels in this course. The Python kernel is based on IPython, which is the modern Python REPL (Read-Evaluate-Print Loop) interpreter.  You can run IPython from a shell command line if you like and get much of the same functionality as a Notebook with a Python kernel."
   ]
  },
  {
   "cell_type": "markdown",
   "metadata": {},
   "source": [
    "### Cells\n",
    "#### Each cell has a \"type\":\n",
    "* **Code** - The cell contains code for the kernel that you are running.  The cell \"understands\" your code. \n",
    "* **Markdown** - The cell contains documentation formatted with *Markdown*.\n",
    "* **Raw** - No formatting or interpretation of the content of a raw cell is executed.  It's left as is."
   ]
  },
  {
   "cell_type": "markdown",
   "metadata": {},
   "source": [
    "#### The color of the box around the cell is important:\n",
    "* **Blue** - If a cell is bordered by a blue, then you are in **editing** mode for that cell.\n",
    "* **Gray** - If a cell is bordered by a gray box, then you are in **command** mode for that cell."
   ]
  },
  {
   "cell_type": "markdown",
   "metadata": {},
   "source": [
    "#### Keyboard shortcuts\n",
    "\n",
    "* **ESC** - The esc key switches a cell from Edit Mode (blue box) to Command Mode (gray box)\n",
    "* **Enter** - The enter key switches a cell from Command Mode to Edit Mode"
   ]
  },
  {
   "cell_type": "markdown",
   "metadata": {},
   "source": [
    "##### Editing Mode\n",
    "* **TAB** - brings up a completion menu for the object you are working with\n",
    "* **Shift-TAB** - brings up helpful information on the nearest object\n",
    "* **?obj*** shows obj help (docstring)\n",
    "* **??obj** shows obj source code\n",
    "* **dir(obj)** provides a list of an objects attributes and methods"
   ]
  },
  {
   "cell_type": "markdown",
   "metadata": {},
   "source": [
    "##### Command Mode\n",
    "* **DD** - delete the cell\n",
    "* **X** - cut the cellb\n",
    "* **C** - copy the cell\n",
    "* **V** - paste the cell below\n",
    "* **A** - insert a new cell above this one\n",
    "* **B** - insert a new cell below this one"
   ]
  },
  {
   "cell_type": "markdown",
   "metadata": {},
   "source": [
    "### Getting Help\n",
    "JupyterLab and to some extent Jupyter Notebook has help on almost any topic you may need under the Help menu. "
   ]
  },
  {
   "cell_type": "code",
   "execution_count": null,
   "metadata": {},
   "outputs": [],
   "source": []
  }
 ],
 "metadata": {
  "colab": {
   "authorship_tag": "ABX9TyOJqnKF1h9lOYBASanrhKiw",
   "collapsed_sections": [],
   "mount_file_id": "16wgF3CthOc5yuHtHQmDrY1sVaud2j0ek",
   "name": "Introduction.ipynb",
   "provenance": []
  },
  "kernelspec": {
   "display_name": "Python 3",
   "language": "python",
   "name": "python3"
  },
  "language_info": {
   "codemirror_mode": {
    "name": "ipython",
    "version": 3
   },
   "file_extension": ".py",
   "mimetype": "text/x-python",
   "name": "python",
   "nbconvert_exporter": "python",
   "pygments_lexer": "ipython3",
   "version": "3.8.2"
  }
 },
 "nbformat": 4,
 "nbformat_minor": 4
}
