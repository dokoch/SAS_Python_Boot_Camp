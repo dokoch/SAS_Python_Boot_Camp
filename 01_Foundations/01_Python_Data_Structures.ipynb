{
 "cells": [
  {
   "cell_type": "markdown",
   "metadata": {
    "id": "rVQOnZDGKSGE"
   },
   "source": [
    "# Builtin Python Data Structures"
   ]
  },
  {
   "cell_type": "markdown",
   "metadata": {
    "id": "03chmwizD2r4"
   },
   "source": [
    "## Introduction\n",
    "\n",
    "It is critical as a Data Scientist to thoroughly understand basic Python data structures and how numbers are represented in the computer. We will build on this foundation when we discuss the Numpy and Pandas libraries. \n",
    "\n",
    "The foundational Python data model is documented on the [docs.python.org](https://docs.python.org/3.8/reference/datamodel.html) site and is your go-to reference for Python data.  However, the docs can be at times confusing so we will go through each data structure with explanations and examples.  Our goal is to ensure that everybody has a solid foundation on which to build."
   ]
  },
  {
   "cell_type": "markdown",
   "metadata": {
    "id": "03chmwizD2r4"
   },
   "source": [
    "<a class=\"anchor\" id=\"0\"></a>\n",
    "## Table of Contents\n",
    "1. [Introduction](#10)\n",
    "1. [Numbers](#20)\n",
    "    1. [Integers](#21)\n",
    "    1. [Float](#22)\n",
    "    1. [Complex](#23)\n",
    "1. [Sequences](#30)\n",
    "    1. [Immutable Sequences](#31)\n",
    "        1. [Strings](#32)\n",
    "        1. [Tuples](#33)\n",
    "        1. [Bytes](#34)\n",
    "        1. [Range](#35)\n",
    "    1. [Mutable Sequences](#36)\n",
    "        1. [Lists](#37)\n",
    "        1. [Bytearrays](#38)\n",
    "1. [Sets](#40)\n",
    "    1. [Sets](#40)\n",
    "    1. [Frozen Sets](#42)\n",
    "1. [Dictionaries](#50)\n",
    "1. [Special Types](#60)\n",
    "    1. [None](#61)\n",
    "    1. [NotImplimented](#62)\n",
    "    1. [Ellipsis](#63)"
   ]
  },
  {
   "cell_type": "markdown",
   "metadata": {
    "id": "u0Gp24pIKK0Y"
   },
   "source": [
    "<a class=\"anchor\" id=\"10\"></a>\n",
    "### Introduction\n",
    "[Back to Table of Contents](#0)\n",
    "* Everything in Python is an Object. \n",
    "* Every Object has:\n",
    "    * _Type_ (determines what it can do)\n",
    "    * _Identity_ (its address)\n",
    "    * _Value_ (what values can it take on)\n",
    "    * _Pointer_ (the thing you see)\n",
    "* Objects are accessed by reference (a pointer to the object)\n",
    "* Information about Python objects is at your fingertips:\n",
    "    * type(obj)\n",
    "    * dir(obj)\n",
    "    * id(obj)\n",
    "    * help(obj)\n",
    "    * obj Shift-TAB\n",
    "    * obj. TAB\n",
    " "
   ]
  },
  {
   "cell_type": "code",
   "execution_count": null,
   "metadata": {
    "colab": {
     "base_uri": "https://localhost:8080/"
    },
    "executionInfo": {
     "elapsed": 608,
     "status": "ok",
     "timestamp": 1608496210115,
     "user": {
      "displayName": "Don Koch",
      "photoUrl": "https://lh3.googleusercontent.com/a-/AOh14GizPaz5Q6VSf8iuBk-yy6t2E90NtjrjTJizHbMb=s64",
      "userId": "10116018109646484238"
     },
     "user_tz": 300
    },
    "id": "IHZ7UcyJx4rs",
    "outputId": "bb15141e-8d9a-4a6d-b725-6ec5f3a668b0"
   },
   "outputs": [],
   "source": [
    "# The variable \"a\" points to an object whose value is 3.14\n",
    "a = 3.14\n",
    "b = a"
   ]
  },
  {
   "cell_type": "code",
   "execution_count": null,
   "metadata": {},
   "outputs": [],
   "source": [
    "# The variable \"b\" points to the same object as \"a\".  \n",
    "b"
   ]
  },
  {
   "cell_type": "code",
   "execution_count": null,
   "metadata": {
    "colab": {
     "base_uri": "https://localhost:8080/"
    },
    "executionInfo": {
     "elapsed": 608,
     "status": "ok",
     "timestamp": 1608496210115,
     "user": {
      "displayName": "Don Koch",
      "photoUrl": "https://lh3.googleusercontent.com/a-/AOh14GizPaz5Q6VSf8iuBk-yy6t2E90NtjrjTJizHbMb=s64",
      "userId": "10116018109646484238"
     },
     "user_tz": 300
    },
    "id": "IHZ7UcyJx4rs",
    "outputId": "bb15141e-8d9a-4a6d-b725-6ec5f3a668b0"
   },
   "outputs": [],
   "source": [
    "# Do the two pointers point to the same object?\n",
    "a is b"
   ]
  },
  {
   "cell_type": "code",
   "execution_count": null,
   "metadata": {},
   "outputs": [],
   "source": [
    "# The address of the object \"a\" is pointing to is...\n",
    "id(a)"
   ]
  },
  {
   "cell_type": "code",
   "execution_count": null,
   "metadata": {},
   "outputs": [],
   "source": [
    "# The address of the object \"b\" is pointing to is...\n",
    "id(b)"
   ]
  },
  {
   "cell_type": "code",
   "execution_count": null,
   "metadata": {},
   "outputs": [],
   "source": [
    "# The object pointed to by \"b\" is not changed, it was destroyed and a new object created. \n",
    "b = b + 1\n",
    "id(b)"
   ]
  },
  {
   "cell_type": "code",
   "execution_count": null,
   "metadata": {
    "colab": {
     "base_uri": "https://localhost:8080/"
    },
    "executionInfo": {
     "elapsed": 608,
     "status": "ok",
     "timestamp": 1608496210115,
     "user": {
      "displayName": "Don Koch",
      "photoUrl": "https://lh3.googleusercontent.com/a-/AOh14GizPaz5Q6VSf8iuBk-yy6t2E90NtjrjTJizHbMb=s64",
      "userId": "10116018109646484238"
     },
     "user_tz": 300
    },
    "id": "IHZ7UcyJx4rs",
    "outputId": "bb15141e-8d9a-4a6d-b725-6ec5f3a668b0"
   },
   "outputs": [],
   "source": [
    "# Do the two pointers point to the same object?\n",
    "a is b"
   ]
  },
  {
   "cell_type": "code",
   "execution_count": null,
   "metadata": {
    "colab": {
     "base_uri": "https://localhost:8080/"
    },
    "executionInfo": {
     "elapsed": 608,
     "status": "ok",
     "timestamp": 1608496210115,
     "user": {
      "displayName": "Don Koch",
      "photoUrl": "https://lh3.googleusercontent.com/a-/AOh14GizPaz5Q6VSf8iuBk-yy6t2E90NtjrjTJizHbMb=s64",
      "userId": "10116018109646484238"
     },
     "user_tz": 300
    },
    "id": "IHZ7UcyJx4rs",
    "outputId": "bb15141e-8d9a-4a6d-b725-6ec5f3a668b0"
   },
   "outputs": [],
   "source": [
    "# The type of the object that \"a\" points to is...\n",
    "type(a)"
   ]
  },
  {
   "cell_type": "markdown",
   "metadata": {
    "id": "c_GeHCaaqRXm"
   },
   "source": [
    "---\n",
    "<a class=\"anchor\" id=\"20\"></a>\n",
    "## Numbers\n",
    "[Back to Table of Contents](#0)"
   ]
  },
  {
   "cell_type": "markdown",
   "metadata": {
    "id": "c_GeHCaaqRXm"
   },
   "source": [
    "---\n",
    "<a class=\"anchor\" id=\"21\"></a>\n",
    "### Integers\n",
    "[Back to Table of Contents](#0)\n",
    "#### There are two types of Integers:\n",
    "1. Regular Integers\n",
    "    * Type is **int**\n",
    "    * Literals: ..., -2, -1, 0, 1, 2, ...\n",
    "1. Boolean Integers\n",
    "    * type **bool**\n",
    "    * Literals: **True** or **False** (also 1 or 0)\n",
    "    \n",
    "* Limited by machines virtual memory - huge"
   ]
  },
  {
   "cell_type": "markdown",
   "metadata": {},
   "source": [
    "#### Regular Integers"
   ]
  },
  {
   "cell_type": "code",
   "execution_count": null,
   "metadata": {
    "colab": {
     "base_uri": "https://localhost:8080/"
    },
    "executionInfo": {
     "elapsed": 593,
     "status": "ok",
     "timestamp": 1608496663146,
     "user": {
      "displayName": "Don Koch",
      "photoUrl": "https://lh3.googleusercontent.com/a-/AOh14GizPaz5Q6VSf8iuBk-yy6t2E90NtjrjTJizHbMb=s64",
      "userId": "10116018109646484238"
     },
     "user_tz": 300
    },
    "id": "raHyH3Q6VBxO",
    "outputId": "ff3c8b51-acec-43e7-8f7b-781a4c60a40c"
   },
   "outputs": [],
   "source": [
    "x = 2\n",
    "print(f\"The value of x is {x} and type is {type(x)}\")\n",
    "b = True\n",
    "print(f\"The value of b is {b} and type is {type(b)}\")"
   ]
  },
  {
   "cell_type": "markdown",
   "metadata": {},
   "source": [
    "#### Boolean Integers"
   ]
  },
  {
   "cell_type": "code",
   "execution_count": null,
   "metadata": {},
   "outputs": [],
   "source": [
    "# Boolean True == 1\n",
    "True + True + True"
   ]
  },
  {
   "cell_type": "code",
   "execution_count": null,
   "metadata": {},
   "outputs": [],
   "source": [
    "# Boolean False == 0\n",
    "3 * False"
   ]
  },
  {
   "cell_type": "markdown",
   "metadata": {},
   "source": [
    "##### Comparison operators (and/or)\n",
    "* Create boolean results\n",
    "* Have **short-circuit** behavior"
   ]
  },
  {
   "cell_type": "code",
   "execution_count": 119,
   "metadata": {},
   "outputs": [],
   "source": [
    "# Simple function to test if one side of a boolean comparison gets executed\n",
    "def test(b):\n",
    "    print(\"Executed\")\n",
    "    return b"
   ]
  },
  {
   "cell_type": "code",
   "execution_count": 120,
   "metadata": {},
   "outputs": [
    {
     "name": "stdout",
     "output_type": "stream",
     "text": [
      "Executed\n"
     ]
    },
    {
     "data": {
      "text/plain": [
       "True"
      ]
     },
     "execution_count": 120,
     "metadata": {},
     "output_type": "execute_result"
    }
   ],
   "source": [
    "test(True)"
   ]
  },
  {
   "cell_type": "markdown",
   "metadata": {},
   "source": [
    "**OR** short circuits when the first statement is **True**"
   ]
  },
  {
   "cell_type": "code",
   "execution_count": 121,
   "metadata": {},
   "outputs": [
    {
     "data": {
      "text/plain": [
       "True"
      ]
     },
     "execution_count": 121,
     "metadata": {},
     "output_type": "execute_result"
    }
   ],
   "source": [
    "# Why didn't we see test() print \"Executed\"?\n",
    "True or test(True)"
   ]
  },
  {
   "cell_type": "code",
   "execution_count": 122,
   "metadata": {},
   "outputs": [
    {
     "data": {
      "text/plain": [
       "True"
      ]
     },
     "execution_count": 122,
     "metadata": {},
     "output_type": "execute_result"
    }
   ],
   "source": [
    "True or test(False)"
   ]
  },
  {
   "cell_type": "code",
   "execution_count": 123,
   "metadata": {},
   "outputs": [
    {
     "name": "stdout",
     "output_type": "stream",
     "text": [
      "Executed\n"
     ]
    },
    {
     "data": {
      "text/plain": [
       "True"
      ]
     },
     "execution_count": 123,
     "metadata": {},
     "output_type": "execute_result"
    }
   ],
   "source": [
    "# Why did we see \"Executed\"?\n",
    "False or test(True)"
   ]
  },
  {
   "cell_type": "code",
   "execution_count": null,
   "metadata": {},
   "outputs": [],
   "source": [
    "False or test(False)"
   ]
  },
  {
   "cell_type": "markdown",
   "metadata": {},
   "source": [
    "**AND** short circuits when the first statement is **False**"
   ]
  },
  {
   "cell_type": "code",
   "execution_count": null,
   "metadata": {},
   "outputs": [],
   "source": [
    "True and test(False)"
   ]
  },
  {
   "cell_type": "code",
   "execution_count": 118,
   "metadata": {},
   "outputs": [
    {
     "ename": "NameError",
     "evalue": "name 'test' is not defined",
     "output_type": "error",
     "traceback": [
      "\u001b[1;31m---------------------------------------------------------------------------\u001b[0m",
      "\u001b[1;31mNameError\u001b[0m                                 Traceback (most recent call last)",
      "\u001b[1;32m<ipython-input-118-efe721f41068>\u001b[0m in \u001b[0;36m<module>\u001b[1;34m\u001b[0m\n\u001b[1;32m----> 1\u001b[1;33m \u001b[1;32mTrue\u001b[0m \u001b[1;32mand\u001b[0m \u001b[0mtest\u001b[0m\u001b[1;33m(\u001b[0m\u001b[1;32mTrue\u001b[0m\u001b[1;33m)\u001b[0m\u001b[1;33m\u001b[0m\u001b[1;33m\u001b[0m\u001b[0m\n\u001b[0m",
      "\u001b[1;31mNameError\u001b[0m: name 'test' is not defined"
     ]
    }
   ],
   "source": [
    "True and test(True)"
   ]
  },
  {
   "cell_type": "code",
   "execution_count": null,
   "metadata": {},
   "outputs": [],
   "source": [
    "False and test(False)"
   ]
  },
  {
   "cell_type": "code",
   "execution_count": 124,
   "metadata": {},
   "outputs": [
    {
     "data": {
      "text/plain": [
       "False"
      ]
     },
     "execution_count": 124,
     "metadata": {},
     "output_type": "execute_result"
    }
   ],
   "source": [
    "False and test(True)"
   ]
  },
  {
   "cell_type": "markdown",
   "metadata": {
    "id": "ffR-kAy8w4LJ"
   },
   "source": [
    "---\n",
    "<a class=\"anchor\" id=\"22\"></a>\n",
    "### Float\n",
    "[Back to Table of Contents](#0)\n",
    "\n",
    "* The Real Numbers\n",
    "* Type **float**\n",
    "* Literal: 3.14159\n",
    "* [Double-precision 64-bit](https://en.wikipedia.org/wiki/Double-precision_floating-point_format)"
   ]
  },
  {
   "cell_type": "code",
   "execution_count": null,
   "metadata": {
    "colab": {
     "base_uri": "https://localhost:8080/"
    },
    "executionInfo": {
     "elapsed": 572,
     "status": "ok",
     "timestamp": 1608497269528,
     "user": {
      "displayName": "Don Koch",
      "photoUrl": "https://lh3.googleusercontent.com/a-/AOh14GizPaz5Q6VSf8iuBk-yy6t2E90NtjrjTJizHbMb=s64",
      "userId": "10116018109646484238"
     },
     "user_tz": 300
    },
    "id": "pGr8Gr7Hpx4G",
    "outputId": "e8480f32-b817-4087-8c22-93414a128fe0"
   },
   "outputs": [],
   "source": [
    "y = 9.123456789123456789123456789e-300\n",
    "print(f\"The value of y is {y} and type is {type(y)}\")"
   ]
  },
  {
   "cell_type": "markdown",
   "metadata": {
    "id": "wYgzC82N7mxL"
   },
   "source": [
    "---\n",
    "<a class=\"anchor\" id=\"23\"></a>\n",
    "### Complex\n",
    "[Back to Table of Contents](#0)\n",
    "* [Complex Number](https://en.wikipedia.org/wiki/Complex_number)\n",
    "* A pair of double precision floating point numbers "
   ]
  },
  {
   "cell_type": "code",
   "execution_count": null,
   "metadata": {
    "colab": {
     "base_uri": "https://localhost:8080/"
    },
    "executionInfo": {
     "elapsed": 884,
     "status": "ok",
     "timestamp": 1608497403483,
     "user": {
      "displayName": "Don Koch",
      "photoUrl": "https://lh3.googleusercontent.com/a-/AOh14GizPaz5Q6VSf8iuBk-yy6t2E90NtjrjTJizHbMb=s64",
      "userId": "10116018109646484238"
     },
     "user_tz": 300
    },
    "id": "xKLJKsW58dM7",
    "outputId": "6ed8f6a2-cb7c-4f10-a1ec-f6e9d47f9599"
   },
   "outputs": [],
   "source": [
    "z = complex(-4, 9) \n",
    "print (f'The value of z is {z} and type is {type(z)}') \n",
    "print (f'Its real part is {z.real} and its imaginary part is {z.imag}') "
   ]
  },
  {
   "cell_type": "code",
   "execution_count": null,
   "metadata": {
    "colab": {
     "base_uri": "https://localhost:8080/"
    },
    "executionInfo": {
     "elapsed": 884,
     "status": "ok",
     "timestamp": 1608497403483,
     "user": {
      "displayName": "Don Koch",
      "photoUrl": "https://lh3.googleusercontent.com/a-/AOh14GizPaz5Q6VSf8iuBk-yy6t2E90NtjrjTJizHbMb=s64",
      "userId": "10116018109646484238"
     },
     "user_tz": 300
    },
    "id": "xKLJKsW58dM7",
    "outputId": "6ed8f6a2-cb7c-4f10-a1ec-f6e9d47f9599"
   },
   "outputs": [],
   "source": [
    "z = 6 + 5j \n",
    "print (f'The value of z is {z} and type is {type(z)}') \n",
    "print (f'Its real part is {z.real} and its imaginary part is {z.imag}') "
   ]
  },
  {
   "cell_type": "code",
   "execution_count": null,
   "metadata": {},
   "outputs": [],
   "source": [
    "z**0.5"
   ]
  },
  {
   "cell_type": "code",
   "execution_count": null,
   "metadata": {},
   "outputs": [],
   "source": [
    "(z**0.5)**2"
   ]
  },
  {
   "cell_type": "code",
   "execution_count": null,
   "metadata": {},
   "outputs": [],
   "source": [
    "# Square root of 9?\n",
    "9**0.5"
   ]
  },
  {
   "cell_type": "code",
   "execution_count": null,
   "metadata": {},
   "outputs": [],
   "source": [
    "# Square root of -9?\n",
    "(-9)**0.5"
   ]
  },
  {
   "cell_type": "markdown",
   "metadata": {
    "id": "mcoAQB4d4KZJ"
   },
   "source": [
    "---\n",
    "---\n",
    "<a class=\"anchor\" id=\"30\"></a>\n",
    "## Sequences\n",
    "[Back to Table of Contents](#0)"
   ]
  },
  {
   "cell_type": "markdown",
   "metadata": {
    "id": "mcoAQB4d4KZJ"
   },
   "source": [
    "---\n",
    "<a class=\"anchor\" id=\"31\"></a>\n",
    "### Immutable Sequences\n",
    "[Back to Table of Contents](#0)\n",
    "\n",
    "Once created, immutable sequences cannot be change"
   ]
  },
  {
   "cell_type": "markdown",
   "metadata": {
    "id": "7Kf1gzxMxin9"
   },
   "source": [
    "---\n",
    "<a class=\"anchor\" id=\"32\"></a>\n",
    "#### Strings\n",
    "[Back to Table of Contents](#0)\n",
    "\n",
    "* A sequence of [Unicode code points](https://en.wikipedia.org/wiki/Unicode#Code_point_planes_and_blocks) in the range U+0000 - U+10FFFF\n",
    "* Type **str**\n",
    "* Literal: \"Hello World\""
   ]
  },
  {
   "cell_type": "code",
   "execution_count": null,
   "metadata": {
    "colab": {
     "base_uri": "https://localhost:8080/"
    },
    "executionInfo": {
     "elapsed": 1292,
     "status": "ok",
     "timestamp": 1608495874204,
     "user": {
      "displayName": "Don Koch",
      "photoUrl": "https://lh3.googleusercontent.com/a-/AOh14GizPaz5Q6VSf8iuBk-yy6t2E90NtjrjTJizHbMb=s64",
      "userId": "10116018109646484238"
     },
     "user_tz": 300
    },
    "id": "IrhSnBf0p7zv",
    "outputId": "1fe9a770-6d4f-433b-dc19-12c3b364d091"
   },
   "outputs": [],
   "source": [
    "s = 'Hello World'\n",
    "print(f\"\"\"\n",
    "The value  of s is        : \"{s}\"\n",
    "The type   of s is        : {type(s)}\n",
    "The length of s is        : {len(s)}\n",
    "The value of s in caps is : {s.upper()}\n",
    "\"\"\")"
   ]
  },
  {
   "cell_type": "code",
   "execution_count": null,
   "metadata": {},
   "outputs": [],
   "source": [
    "# Slice the string\n",
    "s[6:11]"
   ]
  },
  {
   "cell_type": "code",
   "execution_count": null,
   "metadata": {},
   "outputs": [],
   "source": [
    "# Slice the slice and add another string\n",
    "s[6:11][0:3]+'d'"
   ]
  },
  {
   "cell_type": "code",
   "execution_count": null,
   "metadata": {},
   "outputs": [],
   "source": [
    "??s.capitalize()"
   ]
  },
  {
   "cell_type": "markdown",
   "metadata": {
    "id": "lVsASxSmOIa6"
   },
   "source": [
    "---\n",
    "<a class=\"anchor\" id=\"33\"></a>\n",
    "#### Tuples\n",
    "[Back to Table of Contents](#0)\n",
    "\n",
    "* Sequence of arbitrary Python objects\n",
    "* Special Cases\n",
    "    * Empty Tuple\n",
    "    * Singleton Tuple, only 1 object"
   ]
  },
  {
   "cell_type": "code",
   "execution_count": null,
   "metadata": {
    "id": "lVsASxSmOIa6"
   },
   "outputs": [],
   "source": [
    "# An empty tuple\n",
    "empty = ()\n",
    "print(f'The value of empty is {empty} and type is {type(empty)}')"
   ]
  },
  {
   "cell_type": "code",
   "execution_count": null,
   "metadata": {
    "colab": {
     "base_uri": "https://localhost:8080/",
     "height": 240
    },
    "executionInfo": {
     "elapsed": 1296,
     "status": "error",
     "timestamp": 1608495874211,
     "user": {
      "displayName": "Don Koch",
      "photoUrl": "https://lh3.googleusercontent.com/a-/AOh14GizPaz5Q6VSf8iuBk-yy6t2E90NtjrjTJizHbMb=s64",
      "userId": "10116018109646484238"
     },
     "user_tz": 300
    },
    "id": "aKHkeWQdOT1r",
    "outputId": "07a3a027-d2f9-4be4-ac19-6cccf8b3859f"
   },
   "outputs": [],
   "source": [
    "# A tuple with one object\n",
    "# NOTE: comma is necessary to avoid confusion\n",
    "singleton = ('a',)\n",
    "print(f'The value of singlton is \"{singleton}\" and type is \"{type(singleton)}\"')"
   ]
  },
  {
   "cell_type": "code",
   "execution_count": null,
   "metadata": {
    "colab": {
     "base_uri": "https://localhost:8080/",
     "height": 240
    },
    "executionInfo": {
     "elapsed": 1296,
     "status": "error",
     "timestamp": 1608495874211,
     "user": {
      "displayName": "Don Koch",
      "photoUrl": "https://lh3.googleusercontent.com/a-/AOh14GizPaz5Q6VSf8iuBk-yy6t2E90NtjrjTJizHbMb=s64",
      "userId": "10116018109646484238"
     },
     "user_tz": 300
    },
    "id": "aKHkeWQdOT1r",
    "outputId": "07a3a027-d2f9-4be4-ac19-6cccf8b3859f"
   },
   "outputs": [],
   "source": [
    "# a string with parens, not a tuple\n",
    "not_a_tuple = ('a')\n",
    "print(f'The value of not_a_tuple is \"{not_a_tuple}\" and type is \"{type(not_a_tuple)}\"')"
   ]
  },
  {
   "cell_type": "code",
   "execution_count": null,
   "metadata": {
    "id": "gC4Kl8w-H5be"
   },
   "outputs": [],
   "source": [
    "# a tuple of an integer and two floats\n",
    "t1 = 3, 0.1, 0.04\n",
    "print(t1)"
   ]
  },
  {
   "cell_type": "code",
   "execution_count": null,
   "metadata": {
    "id": "OkDs2ID-JT8T"
   },
   "outputs": [],
   "source": [
    "# operations on a tuple\n",
    "tup_sum = sum(t1)\n",
    "tup_sum"
   ]
  },
  {
   "cell_type": "code",
   "execution_count": null,
   "metadata": {
    "id": "icay8UXTJm2e"
   },
   "outputs": [],
   "source": [
    "# can't always operate on a tuple - error since you can't add numbers and strings\n",
    "t1 = (3, 0.1, 0.04, \"pi\") \n",
    "tupe_sum = sum(t1) "
   ]
  },
  {
   "cell_type": "code",
   "execution_count": null,
   "metadata": {
    "id": "I1rOSqRbF9s0"
   },
   "outputs": [],
   "source": [
    "# parenthese are optional\n",
    "\n",
    "t2 = 'a third', 1/3\n",
    "t2"
   ]
  },
  {
   "cell_type": "code",
   "execution_count": null,
   "metadata": {
    "id": "xCs3LRHrSA7V"
   },
   "outputs": [],
   "source": [
    "# parenthese are optional unless needed for clarity\n",
    "# e.g. a tuple of two tuples and a string\n",
    "    \n",
    "t3 =   (1, 2, 3), (4, 5, 6), \"Hello\"\n",
    "t3"
   ]
  },
  {
   "cell_type": "code",
   "execution_count": null,
   "metadata": {
    "id": "fTFcXLUbSz5Z"
   },
   "outputs": [],
   "source": [
    "# t3 and t4 are equavelant\n",
    "\n",
    "t4 = ((1, 2, 3), (4, 5, 6), \"Hello\")\n",
    "t3 == t4"
   ]
  },
  {
   "cell_type": "code",
   "execution_count": null,
   "metadata": {
    "id": "L0aOKQ7QSd2C"
   },
   "outputs": [],
   "source": [
    "# t5 is not the same as t3 and t4\n",
    "\n",
    "t5 = (1, 2, 3, 4, 5, 6, \"Hello\")\n",
    "t5 == t4"
   ]
  },
  {
   "cell_type": "code",
   "execution_count": null,
   "metadata": {},
   "outputs": [],
   "source": [
    "# a tuple that contains a list - which is mutable\n",
    "t6 = ('abc', 'def', ['h','i','j'])\n",
    "t6"
   ]
  },
  {
   "cell_type": "code",
   "execution_count": null,
   "metadata": {},
   "outputs": [],
   "source": [
    "# you can modify a mutable object inside a tuple\n",
    "t6[2][1] = 'k'\n",
    "t6"
   ]
  },
  {
   "cell_type": "code",
   "execution_count": null,
   "metadata": {},
   "outputs": [],
   "source": [
    "t6[0] = 'xyz'"
   ]
  },
  {
   "cell_type": "markdown",
   "metadata": {
    "id": "QlmMzMwQKUTr"
   },
   "source": [
    "<a class='anchor' id='34'></a>\n",
    "#### Bytes\n",
    "[Back to Table of Contents](#0)\n",
    "\n",
    "* Sequence of bytes\n",
    "* Bytes are 8-bit bytes, of values 0 <= x < 256"
   ]
  },
  {
   "cell_type": "code",
   "execution_count": null,
   "metadata": {
    "id": "m9B15Qy3KuiC"
   },
   "outputs": [],
   "source": [
    "a = b'abc'\n",
    "b = bytes('def', \"ascii\")\n",
    "print(f'The value of a is \"{a}\" and type is {type(a)}')\n",
    "print(f'The value of b is \"{b}\" and type is {type(b)}')"
   ]
  },
  {
   "cell_type": "markdown",
   "metadata": {},
   "source": [
    "<a class='anchor' id='35'></a>\n",
    "#### Range\n",
    "[Back to Table of Contents](#0)\n",
    "\n",
    "* Sequence of numbers commonly used for looping\\\n",
    "    ```range(start, stop[, step])```\n",
    "  "
   ]
  },
  {
   "cell_type": "code",
   "execution_count": null,
   "metadata": {},
   "outputs": [],
   "source": [
    "for i in range(0, 10, 2):\n",
    "    print(f'i = {i}')"
   ]
  },
  {
   "cell_type": "code",
   "execution_count": null,
   "metadata": {},
   "outputs": [],
   "source": [
    "list(range(100, 0, -20))"
   ]
  },
  {
   "cell_type": "markdown",
   "metadata": {},
   "source": [
    "---\n",
    "---\n",
    "<a class='anchor' id='36'></a>\n",
    "## Mutable Sequences\n",
    "[Back to Table of Contents](#0)"
   ]
  },
  {
   "cell_type": "markdown",
   "metadata": {
    "id": "hiCuzZ9FM-B6"
   },
   "source": [
    "---\n",
    "<a class='anchor' id='37'></a>\n",
    "### Lists\n",
    "[Back to Table of Contents](#0)\n",
    "\n",
    "* Sequence of arbitrary Python objects\n",
    "* Must use square brackets [] to create a list\n",
    "* Or use list() function with any iterable as an argument"
   ]
  },
  {
   "cell_type": "code",
   "execution_count": 107,
   "metadata": {
    "id": "n2U5wO6oNB7p"
   },
   "outputs": [
    {
     "data": {
      "text/plain": [
       "[10, 20, 30, 40, 50, 60, 70, 80]"
      ]
     },
     "execution_count": 107,
     "metadata": {},
     "output_type": "execute_result"
    }
   ],
   "source": [
    "l = [10, 20, 30, 40, 50, 60, 70, 80]\n",
    "l"
   ]
  },
  {
   "cell_type": "code",
   "execution_count": 108,
   "metadata": {},
   "outputs": [
    {
     "data": {
      "text/plain": [
       "8"
      ]
     },
     "execution_count": 108,
     "metadata": {},
     "output_type": "execute_result"
    }
   ],
   "source": [
    "len(l)"
   ]
  },
  {
   "cell_type": "code",
   "execution_count": 109,
   "metadata": {},
   "outputs": [
    {
     "data": {
      "text/plain": [
       "[1, 2, 3, 4]"
      ]
     },
     "execution_count": 109,
     "metadata": {},
     "output_type": "execute_result"
    }
   ],
   "source": [
    "t = (1, 2, 3, 4)\n",
    "list(t)"
   ]
  },
  {
   "cell_type": "code",
   "execution_count": 110,
   "metadata": {},
   "outputs": [
    {
     "data": {
      "text/plain": [
       "['H', 'e', 'l', 'l', 'o']"
      ]
     },
     "execution_count": 110,
     "metadata": {},
     "output_type": "execute_result"
    }
   ],
   "source": [
    "s = 'Hello'\n",
    "list(s)"
   ]
  },
  {
   "cell_type": "markdown",
   "metadata": {},
   "source": [
    "#### Common List Operations"
   ]
  },
  {
   "cell_type": "code",
   "execution_count": 111,
   "metadata": {},
   "outputs": [
    {
     "data": {
      "text/plain": [
       "[20, 30]"
      ]
     },
     "execution_count": 111,
     "metadata": {},
     "output_type": "execute_result"
    }
   ],
   "source": [
    "# Slicing\n",
    "l[1:3]"
   ]
  },
  {
   "cell_type": "code",
   "execution_count": 112,
   "metadata": {},
   "outputs": [
    {
     "data": {
      "text/plain": [
       "[10, 20, 30, 40, 50, 60]"
      ]
     },
     "execution_count": 112,
     "metadata": {},
     "output_type": "execute_result"
    }
   ],
   "source": [
    "# From beginning to an index\n",
    "l[:6]"
   ]
  },
  {
   "cell_type": "code",
   "execution_count": 116,
   "metadata": {},
   "outputs": [
    {
     "data": {
      "text/plain": [
       "[50, 60, 70, 80]"
      ]
     },
     "execution_count": 116,
     "metadata": {},
     "output_type": "execute_result"
    }
   ],
   "source": [
    "# From an index to the end\n",
    "l[4:]"
   ]
  },
  {
   "cell_type": "code",
   "execution_count": 113,
   "metadata": {},
   "outputs": [
    {
     "data": {
      "text/plain": [
       "[10, 30, 50, 70]"
      ]
     },
     "execution_count": 113,
     "metadata": {},
     "output_type": "execute_result"
    }
   ],
   "source": [
    "# Extended Slicing\n",
    "l[0:8:2]"
   ]
  },
  {
   "cell_type": "code",
   "execution_count": 114,
   "metadata": {},
   "outputs": [
    {
     "data": {
      "text/plain": [
       "['C', 'D', 'B', 'A']"
      ]
     },
     "execution_count": 114,
     "metadata": {},
     "output_type": "execute_result"
    }
   ],
   "source": [
    "# Sorting\n",
    "h = ['C', 'D', 'B', 'A']\n",
    "h"
   ]
  },
  {
   "cell_type": "code",
   "execution_count": 115,
   "metadata": {},
   "outputs": [
    {
     "data": {
      "text/plain": [
       "['A', 'B', 'C', 'D']"
      ]
     },
     "execution_count": 115,
     "metadata": {},
     "output_type": "execute_result"
    }
   ],
   "source": [
    "h.sort()\n",
    "h"
   ]
  },
  {
   "cell_type": "code",
   "execution_count": 102,
   "metadata": {},
   "outputs": [
    {
     "data": {
      "text/plain": [
       "['A', 'B', 'C', 'D', 'E']"
      ]
     },
     "execution_count": 102,
     "metadata": {},
     "output_type": "execute_result"
    }
   ],
   "source": [
    "# Appending\n",
    "h.append('E')\n",
    "h"
   ]
  },
  {
   "cell_type": "markdown",
   "metadata": {
    "id": "4hOmmGWUNI93"
   },
   "source": [
    "---\n",
    "<a class='anchor' id='38'></a>\n",
    "### Bytearrays\n",
    "[Back to Table of Contents](#0)\n",
    "\n",
    "* Same as bytes but mutable"
   ]
  },
  {
   "cell_type": "code",
   "execution_count": null,
   "metadata": {
    "id": "Tr1rlL0TRbX2"
   },
   "outputs": [],
   "source": [
    "ba = bytearray(b'Hello')\n",
    "ba.hex()"
   ]
  },
  {
   "cell_type": "markdown",
   "metadata": {
    "id": "3GG3dHJVRs9u"
   },
   "source": [
    "---\n",
    "<a class=\"anchor\" id=\"40\"></a>\n",
    "## Sets\n",
    "[Back to Table of Contents](#0)"
   ]
  },
  {
   "cell_type": "markdown",
   "metadata": {
    "id": "3GG3dHJVRs9u"
   },
   "source": [
    "### Properties\n",
    "* Set of immutable objects, which are...\n",
    "    * Unordered\n",
    "    * Finite \n",
    "    * Unique\n",
    "* Sets do not have indices \n",
    "* Sets can be itterated over\n",
    "\n",
    "#### Common uses:\n",
    "* fast membership testing, \n",
    "* removing duplicates from a sequence \n",
    "* computing mathematical operations such as intersection, union, difference, and symmetric difference."
   ]
  },
  {
   "cell_type": "markdown",
   "metadata": {},
   "source": [
    "#### Two ways to create sets"
   ]
  },
  {
   "cell_type": "code",
   "execution_count": 15,
   "metadata": {},
   "outputs": [
    {
     "data": {
      "text/plain": [
       "{2, 3, 4, 6, 'bob'}"
      ]
     },
     "execution_count": 15,
     "metadata": {},
     "output_type": "execute_result"
    }
   ],
   "source": [
    "# give a list to the set() function\n",
    "a = set([2, 4, 6, 2, 3, 6, 6, 6, 4, 'bob'])\n",
    "a"
   ]
  },
  {
   "cell_type": "code",
   "execution_count": 16,
   "metadata": {},
   "outputs": [
    {
     "data": {
      "text/plain": [
       "{2, 40, 60, 70, 'bob', 'mary'}"
      ]
     },
     "execution_count": 16,
     "metadata": {},
     "output_type": "execute_result"
    }
   ],
   "source": [
    "# set literal with curly braces\n",
    "b = {2, 2, 40, 60, 60, 70, 'mary', 'bob'}\n",
    "b"
   ]
  },
  {
   "cell_type": "markdown",
   "metadata": {},
   "source": [
    "#### Set Operations"
   ]
  },
  {
   "cell_type": "code",
   "execution_count": 17,
   "metadata": {},
   "outputs": [
    {
     "data": {
      "text/plain": [
       "{2, 3, 4, 40, 6, 60, 70, 'bob', 'mary'}"
      ]
     },
     "execution_count": 17,
     "metadata": {},
     "output_type": "execute_result"
    }
   ],
   "source": [
    "# Union\n",
    "a | b"
   ]
  },
  {
   "cell_type": "code",
   "execution_count": 18,
   "metadata": {},
   "outputs": [
    {
     "data": {
      "text/plain": [
       "{2, 'bob'}"
      ]
     },
     "execution_count": 18,
     "metadata": {},
     "output_type": "execute_result"
    }
   ],
   "source": [
    "# Intersection\n",
    "a & b"
   ]
  },
  {
   "cell_type": "code",
   "execution_count": 19,
   "metadata": {},
   "outputs": [
    {
     "data": {
      "text/plain": [
       "{3, 4, 6}"
      ]
     },
     "execution_count": 19,
     "metadata": {},
     "output_type": "execute_result"
    }
   ],
   "source": [
    "# Difference (elements in a that are not in b)\n",
    "a - b"
   ]
  },
  {
   "cell_type": "code",
   "execution_count": 20,
   "metadata": {},
   "outputs": [
    {
     "data": {
      "text/plain": [
       "{40, 60, 70, 'mary'}"
      ]
     },
     "execution_count": 20,
     "metadata": {},
     "output_type": "execute_result"
    }
   ],
   "source": [
    "# Difference (elements in b that are not in a)\n",
    "b - a"
   ]
  },
  {
   "cell_type": "code",
   "execution_count": 84,
   "metadata": {},
   "outputs": [
    {
     "data": {
      "text/plain": [
       "{3, 4, 40, 6, 60, 70, 'mary'}"
      ]
     },
     "execution_count": 84,
     "metadata": {},
     "output_type": "execute_result"
    }
   ],
   "source": [
    "# Symmetric Difference (elements in either a or b but not both)\n",
    "a ^ b"
   ]
  },
  {
   "cell_type": "code",
   "execution_count": 22,
   "metadata": {},
   "outputs": [
    {
     "name": "stdout",
     "output_type": "stream",
     "text": [
      "2\n",
      "70\n",
      "40\n",
      "mary\n",
      "bob\n",
      "60\n"
     ]
    }
   ],
   "source": [
    "for e in b:\n",
    "    print(e)"
   ]
  },
  {
   "cell_type": "markdown",
   "metadata": {
    "id": "j5Wnm-fqSZsV"
   },
   "source": [
    "<a class='anchor' id='42'></a>\n",
    "### Frozen Sets\n",
    "[Back to Table of Contents](#0)\n",
    "* Immutable sets. \n",
    "* Created by the built-in frozenset() constructor\n",
    "* Is hashable, it can be used again as an element of another set, or as a dictionary key."
   ]
  },
  {
   "cell_type": "markdown",
   "metadata": {
    "id": "0aQVasBdSgUY"
   },
   "source": [
    "---\n",
    "<a class='anchor' id='50'></a>\n",
    "### Dictionaries\n",
    "[Back to Table of Contents](#0)\n",
    "\n",
    "* Finite sets of objects with arbitrary indexes\n",
    "* Index values must be immutable (a key's hash value must remain constant)\n",
    "* Insertion order is preserved"
   ]
  },
  {
   "cell_type": "code",
   "execution_count": 50,
   "metadata": {},
   "outputs": [
    {
     "data": {
      "text/plain": [
       "{'a': 5, 'b': 2, 'c': 3, 'd': 88}"
      ]
     },
     "execution_count": 50,
     "metadata": {},
     "output_type": "execute_result"
    }
   ],
   "source": [
    "# Notice there are two 'a'. Only the latter on in the list is kept.\n",
    "d = {'a': 1, 'b': 2, 'c': 3, 'a': 5, 'd': 88}\n",
    "d\n"
   ]
  },
  {
   "cell_type": "code",
   "execution_count": 51,
   "metadata": {},
   "outputs": [
    {
     "data": {
      "text/plain": [
       "2"
      ]
     },
     "execution_count": 51,
     "metadata": {},
     "output_type": "execute_result"
    }
   ],
   "source": [
    "# Retrieve a single item from a Dictionary\n",
    "d['b']"
   ]
  },
  {
   "cell_type": "code",
   "execution_count": 52,
   "metadata": {},
   "outputs": [
    {
     "data": {
      "text/plain": [
       "{'a': 5, 'b': 55, 'c': 3, 'd': 88}"
      ]
     },
     "execution_count": 52,
     "metadata": {},
     "output_type": "execute_result"
    }
   ],
   "source": [
    "# Replace an existing value\n",
    "d['b'] = 55\n",
    "d"
   ]
  },
  {
   "cell_type": "code",
   "execution_count": 53,
   "metadata": {},
   "outputs": [
    {
     "data": {
      "text/plain": [
       "{'a': 5, 'c': 3, 'd': 88}"
      ]
     },
     "execution_count": 53,
     "metadata": {},
     "output_type": "execute_result"
    }
   ],
   "source": [
    "# Delete a key/value pair\n",
    "del d['b']\n",
    "d"
   ]
  },
  {
   "cell_type": "code",
   "execution_count": 54,
   "metadata": {},
   "outputs": [
    {
     "data": {
      "text/plain": [
       "5"
      ]
     },
     "execution_count": 54,
     "metadata": {},
     "output_type": "execute_result"
    }
   ],
   "source": [
    "# Delete a key/value out of the dict, returning the value or the second argument if key/value don't exist\n",
    "d.pop('a', 'Default Value')"
   ]
  },
  {
   "cell_type": "code",
   "execution_count": 57,
   "metadata": {},
   "outputs": [
    {
     "data": {
      "text/plain": [
       "'Default Value'"
      ]
     },
     "execution_count": 57,
     "metadata": {},
     "output_type": "execute_result"
    }
   ],
   "source": [
    "# Return the value or the second argument if key/value don't exist. \n",
    "d.get('a', 'Default Value')"
   ]
  },
  {
   "cell_type": "code",
   "execution_count": 56,
   "metadata": {},
   "outputs": [
    {
     "name": "stdout",
     "output_type": "stream",
     "text": [
      "3\n",
      "88\n"
     ]
    }
   ],
   "source": [
    "# Itterate through all key/value pairs in the dict\n",
    "for key in d:\n",
    "    print(d[key])\n",
    "    "
   ]
  },
  {
   "cell_type": "markdown",
   "metadata": {
    "id": "JjUlkVo74dpt"
   },
   "source": [
    "---\n",
    "---\n",
    "<a class='anchor' id='60'></a>\n",
    "## Special Objects\n",
    "[Back to Table of Contents](#0)"
   ]
  },
  {
   "cell_type": "markdown",
   "metadata": {
    "id": "W7-2-eByUXNQ"
   },
   "source": [
    "---\n",
    "<a class='anchor' id='61'></a>\n",
    "###  None\n",
    "[Back to Table of Contents](#0)\n",
    "\n",
    "* Object of type \"NoneType\"\n",
    "* Has no other value\n",
    "* There is only one None\n"
   ]
  },
  {
   "cell_type": "code",
   "execution_count": null,
   "metadata": {
    "colab": {
     "base_uri": "https://localhost:8080/"
    },
    "executionInfo": {
     "elapsed": 1334,
     "status": "ok",
     "timestamp": 1608496223717,
     "user": {
      "displayName": "Don Koch",
      "photoUrl": "https://lh3.googleusercontent.com/a-/AOh14GizPaz5Q6VSf8iuBk-yy6t2E90NtjrjTJizHbMb=s64",
      "userId": "10116018109646484238"
     },
     "user_tz": 300
    },
    "id": "l9_th8ef1Lro",
    "outputId": "4c337a35-c286-4ead-bdbf-1562017ed32e"
   },
   "outputs": [],
   "source": [
    "a = None\n",
    "print(f\"a is of type {type(a)} at address {id(a)}\")\n",
    "b = None\n",
    "print(f\"b is of type {type(b)} at address {id(b)}\")"
   ]
  },
  {
   "cell_type": "markdown",
   "metadata": {
    "id": "HNBljiSr4sRS"
   },
   "source": [
    "---\n",
    "<a class='anchor' id='62'></a>\n",
    "### NotImplimented\n",
    "[Back to Table of Contents](#0)\n",
    "\n",
    "* Object of type \"NotImplimentedType\"\n",
    "* Has no other value\n",
    "* There is only one NotImplimented"
   ]
  },
  {
   "cell_type": "code",
   "execution_count": null,
   "metadata": {
    "colab": {
     "base_uri": "https://localhost:8080/"
    },
    "executionInfo": {
     "elapsed": 887,
     "status": "ok",
     "timestamp": 1608495873784,
     "user": {
      "displayName": "Don Koch",
      "photoUrl": "https://lh3.googleusercontent.com/a-/AOh14GizPaz5Q6VSf8iuBk-yy6t2E90NtjrjTJizHbMb=s64",
      "userId": "10116018109646484238"
     },
     "user_tz": 300
    },
    "id": "sJvy-rKa5CKm",
    "outputId": "8c8a5160-bca4-48e9-e27d-3eb94900ba10"
   },
   "outputs": [],
   "source": [
    "m = NotImplemented\n",
    "print(f\"m is of type {type(m)} at address {id(m)}\")\n",
    "n = NotImplemented\n",
    "print(f\"n is of type {type(n)} at address {id(n)}\")"
   ]
  },
  {
   "cell_type": "markdown",
   "metadata": {
    "id": "fm5dBC1L5mS2"
   },
   "source": [
    "---\n",
    "<a class='anchor' id='63'></a>\n",
    "### Ellipsis\n",
    "[Back to Table of Contents](#0)\n",
    "* Object of type \"ellipsis\"\n",
    "* Has no other value\n",
    "* Truth value is True\n",
    "* There is only one Ellipsis\n",
    "* Useful for slicing multi-dimensional arrays in Numpy"
   ]
  },
  {
   "cell_type": "code",
   "execution_count": null,
   "metadata": {
    "colab": {
     "base_uri": "https://localhost:8080/"
    },
    "executionInfo": {
     "elapsed": 884,
     "status": "ok",
     "timestamp": 1608495873785,
     "user": {
      "displayName": "Don Koch",
      "photoUrl": "https://lh3.googleusercontent.com/a-/AOh14GizPaz5Q6VSf8iuBk-yy6t2E90NtjrjTJizHbMb=s64",
      "userId": "10116018109646484238"
     },
     "user_tz": 300
    },
    "id": "4V62FtPV6NgZ",
    "outputId": "db699c53-fe3a-42eb-8b13-a2f7b83c8337"
   },
   "outputs": [],
   "source": [
    "e = Ellipsis\n",
    "print(f\"e is of type {type(e)} at address {id(e)}\")\n",
    "if e:\n",
    "    print(\"e is True\")"
   ]
  },
  {
   "cell_type": "code",
   "execution_count": null,
   "metadata": {},
   "outputs": [],
   "source": [
    "e is ..."
   ]
  },
  {
   "cell_type": "code",
   "execution_count": null,
   "metadata": {},
   "outputs": [],
   "source": []
  }
 ],
 "metadata": {
  "colab": {
   "authorship_tag": "ABX9TyOJqnKF1h9lOYBASanrhKiw",
   "collapsed_sections": [],
   "mount_file_id": "16wgF3CthOc5yuHtHQmDrY1sVaud2j0ek",
   "name": "Introduction.ipynb",
   "provenance": []
  },
  "kernelspec": {
   "display_name": "Python 3",
   "language": "python",
   "name": "python3"
  },
  "language_info": {
   "codemirror_mode": {
    "name": "ipython",
    "version": 3
   },
   "file_extension": ".py",
   "mimetype": "text/x-python",
   "name": "python",
   "nbconvert_exporter": "python",
   "pygments_lexer": "ipython3",
   "version": "3.8.5"
  }
 },
 "nbformat": 4,
 "nbformat_minor": 4
}
