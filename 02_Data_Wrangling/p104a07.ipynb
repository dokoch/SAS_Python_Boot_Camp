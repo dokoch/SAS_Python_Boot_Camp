{
 "cells": [
  {
   "cell_type": "markdown",
   "metadata": {},
   "source": [
    "---\n",
    "# Activity: p104a07.sas\n",
    "---"
   ]
  },
  {
   "cell_type": "code",
   "execution_count": null,
   "metadata": {},
   "outputs": [],
   "source": [
    "# Standard imports.\n",
    "import saspy\n",
    "import pandas as pd\n",
    "import numpy as np\n",
    "import matplotlib.pyplot as plt\n",
    "from IPython.display import HTML\n",
    "from datetime import datetime\n",
    "from numpy import nan as NA\n",
    "import math"
   ]
  },
  {
   "cell_type": "code",
   "execution_count": null,
   "metadata": {},
   "outputs": [],
   "source": [
    "# Get a SAS session object\n",
    "sas = saspy.SASsession(cfgname=\"oda\")"
   ]
  },
  {
   "cell_type": "code",
   "execution_count": null,
   "metadata": {},
   "outputs": [],
   "source": [
    "# Assign the PG1 library\n",
    "sas.saslib('pg1', engine='base', path='~/PG1/Data/data/data')"
   ]
  },
  {
   "cell_type": "markdown",
   "metadata": {},
   "source": [
    "---\n",
    "# SAS Code\n",
    "```\n",
    "data storm_cat;\n",
    "\tset pg1.storm_summary;\n",
    "\tkeep Name Basin MinPressure StartDate PressureGroup;\n",
    "\t*add ELSE keyword and remove final condition;\n",
    "\tif MinPressure=. then PressureGroup=.;\n",
    "\telse if MinPressure<=920 then PressureGroup=1;\n",
    "\telse PressureGroup=0;\n",
    "\t\n",
    "run;\n",
    "\n",
    "proc freq data=storm_cat;\n",
    "\ttables PressureGroup;\n",
    "run;\n",
    "```\n",
    "---"
   ]
  },
  {
   "cell_type": "code",
   "execution_count": null,
   "metadata": {},
   "outputs": [],
   "source": [
    "# Creat a new DataFrame object by pulling PG1.STORM_SUMMARY data from SAS.\n",
    "storm_summary_df = sas.sasdata('STORM_SUMMARY', 'PG1').to_df()"
   ]
  },
  {
   "cell_type": "code",
   "execution_count": null,
   "metadata": {},
   "outputs": [],
   "source": [
    "# Python doesn't have a 'keep' function so we need to stick with 'drop'.\n",
    "# For convienece I create a DropList and pass it to the drop() method.\n",
    "DropList = ['EndDate', 'Hem_EW', 'Hem_NS', 'Lat', 'Lon', 'MaxWindMPH', 'Season', 'Type']\n",
    "storm_cat_df = storm_summary_df.drop(columns=DropList)"
   ]
  },
  {
   "cell_type": "code",
   "execution_count": null,
   "metadata": {},
   "outputs": [],
   "source": [
    "for i in storm_cat_df.index: \n",
    "    mp = storm_cat_df.loc[i, 'MinPressure']\n",
    "    if math.isnan(mp): \n",
    "        pg = NA\n",
    "    elif mp <= 920:\n",
    "        pg = 1\n",
    "    else:\n",
    "        pg = 0\n",
    "    storm_cat_df.loc[i, 'PressureGroup'] = pg"
   ]
  },
  {
   "cell_type": "code",
   "execution_count": null,
   "metadata": {},
   "outputs": [],
   "source": [
    "storm_cat_df"
   ]
  },
  {
   "cell_type": "code",
   "execution_count": null,
   "metadata": {},
   "outputs": [],
   "source": [
    "# Get a frequency report\n",
    "storm_cat_df['PressureGroup'].value_counts()"
   ]
  },
  {
   "cell_type": "code",
   "execution_count": null,
   "metadata": {},
   "outputs": [],
   "source": [
    "# Cross Tabulation\n",
    "pd.crosstab(index=storm_cat_df['PressureGroup'], columns='count')"
   ]
  }
 ],
 "metadata": {
  "kernelspec": {
   "display_name": "Python 3",
   "language": "python",
   "name": "python3"
  },
  "language_info": {
   "codemirror_mode": {
    "name": "ipython",
    "version": 3
   },
   "file_extension": ".py",
   "mimetype": "text/x-python",
   "name": "python",
   "nbconvert_exporter": "python",
   "pygments_lexer": "ipython3",
   "version": "3.8.5"
  }
 },
 "nbformat": 4,
 "nbformat_minor": 4
}
