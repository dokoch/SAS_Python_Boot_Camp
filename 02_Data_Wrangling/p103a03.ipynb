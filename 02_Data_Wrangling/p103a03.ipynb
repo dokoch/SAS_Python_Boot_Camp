{
 "cells": [
  {
   "cell_type": "markdown",
   "metadata": {},
   "source": [
    "---\n",
    "# Activity: p103a03.sas\n",
    "---"
   ]
  },
  {
   "cell_type": "code",
   "execution_count": 1,
   "metadata": {},
   "outputs": [],
   "source": [
    "# Standard imports.\n",
    "import saspy\n",
    "import pandas as pd\n",
    "import numpy as np\n",
    "import matplotlib.pyplot as plt\n",
    "from IPython.display import HTML\n",
    "from datetime import datetime\n",
    "from numpy import nan as NA\n",
    "import math"
   ]
  },
  {
   "cell_type": "code",
   "execution_count": 2,
   "metadata": {},
   "outputs": [
    {
     "name": "stdout",
     "output_type": "stream",
     "text": [
      "SAS Connection established. Subprocess id is 8144\n",
      "\n"
     ]
    }
   ],
   "source": [
    "# Get a SAS session object\n",
    "sas = saspy.SASsession(cfgname=\"oda\")"
   ]
  },
  {
   "cell_type": "code",
   "execution_count": 3,
   "metadata": {},
   "outputs": [
    {
     "name": "stdout",
     "output_type": "stream",
     "text": [
      "\f",
      "5                                                          The SAS System                        Tuesday, March  9, 2021 09:02:00 PM\n",
      "\n",
      "24         \n",
      "25         libname pg1 base  '~/PG1/Data/data/data'  ;\n",
      "26         \n",
      "27         \n",
      "28         \n",
      "\f",
      "6                                                          The SAS System                        Tuesday, March  9, 2021 09:02:00 PM\n",
      "\n",
      "29         \n"
     ]
    }
   ],
   "source": [
    "# Assign the PG1 library\n",
    "sas.saslib('pg1', engine='base', path='~/PG1/Data/data/data')"
   ]
  },
  {
   "cell_type": "markdown",
   "metadata": {},
   "source": [
    "---\n",
    "# SAS Code\n",
    "```\n",
    "%let BasinCode=NA;\n",
    "\n",
    "proc means data=pg1.storm_summary;\n",
    "\twhere Basin=\"&BasinCode\";\n",
    "\tvar MaxWindMPH MinPressure;\n",
    "run;\n",
    "\n",
    "proc freq data=pg1.storm_summary;\n",
    "\twhere Basin='&BasinCode';\n",
    "\ttables Type;\n",
    "run;\n",
    "\n",
    "```\n",
    "---"
   ]
  },
  {
   "cell_type": "code",
   "execution_count": 4,
   "metadata": {},
   "outputs": [],
   "source": [
    "# Creat a new DataFrame object by pulling PG1.STORM_SUMMARY data from SAS.\n",
    "storm_summary_df = sas.sasdata('STORM_SUMMARY', 'PG1').to_df()"
   ]
  },
  {
   "cell_type": "code",
   "execution_count": 8,
   "metadata": {},
   "outputs": [
    {
     "data": {
      "text/html": [
       "<div>\n",
       "<style scoped>\n",
       "    .dataframe tbody tr th:only-of-type {\n",
       "        vertical-align: middle;\n",
       "    }\n",
       "\n",
       "    .dataframe tbody tr th {\n",
       "        vertical-align: top;\n",
       "    }\n",
       "\n",
       "    .dataframe thead th {\n",
       "        text-align: right;\n",
       "    }\n",
       "</style>\n",
       "<table border=\"1\" class=\"dataframe\">\n",
       "  <thead>\n",
       "    <tr style=\"text-align: right;\">\n",
       "      <th></th>\n",
       "      <th>Season</th>\n",
       "      <th>Name</th>\n",
       "      <th>Basin</th>\n",
       "      <th>Type</th>\n",
       "      <th>MaxWindMPH</th>\n",
       "      <th>MinPressure</th>\n",
       "      <th>StartDate</th>\n",
       "      <th>EndDate</th>\n",
       "      <th>Hem_NS</th>\n",
       "      <th>Hem_EW</th>\n",
       "      <th>Lat</th>\n",
       "      <th>Lon</th>\n",
       "    </tr>\n",
       "  </thead>\n",
       "  <tbody>\n",
       "    <tr>\n",
       "      <th>0</th>\n",
       "      <td>1980</td>\n",
       "      <td>NaN</td>\n",
       "      <td>na</td>\n",
       "      <td>TS</td>\n",
       "      <td>35.0</td>\n",
       "      <td>NaN</td>\n",
       "      <td>1980-07-17</td>\n",
       "      <td>1980-11-18</td>\n",
       "      <td>N</td>\n",
       "      <td>W</td>\n",
       "      <td>25.7</td>\n",
       "      <td>-91.2</td>\n",
       "    </tr>\n",
       "    <tr>\n",
       "      <th>1</th>\n",
       "      <td>1980</td>\n",
       "      <td>NaN</td>\n",
       "      <td>SP</td>\n",
       "      <td>NR</td>\n",
       "      <td>NaN</td>\n",
       "      <td>998.0</td>\n",
       "      <td>1980-03-27</td>\n",
       "      <td>1980-03-30</td>\n",
       "      <td>S</td>\n",
       "      <td>E</td>\n",
       "      <td>19.1</td>\n",
       "      <td>137.0</td>\n",
       "    </tr>\n",
       "    <tr>\n",
       "      <th>2</th>\n",
       "      <td>1980</td>\n",
       "      <td>AGATHA</td>\n",
       "      <td>EP</td>\n",
       "      <td>TS</td>\n",
       "      <td>115.0</td>\n",
       "      <td>NaN</td>\n",
       "      <td>1980-06-09</td>\n",
       "      <td>1980-06-15</td>\n",
       "      <td>N</td>\n",
       "      <td>W</td>\n",
       "      <td>12.8</td>\n",
       "      <td>-118.7</td>\n",
       "    </tr>\n",
       "    <tr>\n",
       "      <th>3</th>\n",
       "      <td>1980</td>\n",
       "      <td>ALBINE</td>\n",
       "      <td>SI</td>\n",
       "      <td>ET</td>\n",
       "      <td>NaN</td>\n",
       "      <td>NaN</td>\n",
       "      <td>1979-11-27</td>\n",
       "      <td>1979-12-06</td>\n",
       "      <td>S</td>\n",
       "      <td>E</td>\n",
       "      <td>19.1</td>\n",
       "      <td>137.0</td>\n",
       "    </tr>\n",
       "    <tr>\n",
       "      <th>4</th>\n",
       "      <td>1980</td>\n",
       "      <td>ALEX</td>\n",
       "      <td>WP</td>\n",
       "      <td>TS</td>\n",
       "      <td>40.0</td>\n",
       "      <td>998.0</td>\n",
       "      <td>1980-10-09</td>\n",
       "      <td>1980-10-14</td>\n",
       "      <td>N</td>\n",
       "      <td>E</td>\n",
       "      <td>27.2</td>\n",
       "      <td>140.5</td>\n",
       "    </tr>\n",
       "  </tbody>\n",
       "</table>\n",
       "</div>"
      ],
      "text/plain": [
       "   Season    Name Basin Type  MaxWindMPH  MinPressure  StartDate    EndDate  \\\n",
       "0    1980     NaN    na   TS        35.0          NaN 1980-07-17 1980-11-18   \n",
       "1    1980     NaN    SP   NR         NaN        998.0 1980-03-27 1980-03-30   \n",
       "2    1980  AGATHA    EP   TS       115.0          NaN 1980-06-09 1980-06-15   \n",
       "3    1980  ALBINE    SI   ET         NaN          NaN 1979-11-27 1979-12-06   \n",
       "4    1980    ALEX    WP   TS        40.0        998.0 1980-10-09 1980-10-14   \n",
       "\n",
       "  Hem_NS Hem_EW   Lat    Lon  \n",
       "0      N      W  25.7  -91.2  \n",
       "1      S      E  19.1  137.0  \n",
       "2      N      W  12.8 -118.7  \n",
       "3      S      E  19.1  137.0  \n",
       "4      N      E  27.2  140.5  "
      ]
     },
     "execution_count": 8,
     "metadata": {},
     "output_type": "execute_result"
    }
   ],
   "source": [
    "# Print out the first 5 records\n",
    "storm_summary_df.head()"
   ]
  },
  {
   "cell_type": "code",
   "execution_count": 34,
   "metadata": {},
   "outputs": [
    {
     "data": {
      "text/html": [
       "<div>\n",
       "<style scoped>\n",
       "    .dataframe tbody tr th:only-of-type {\n",
       "        vertical-align: middle;\n",
       "    }\n",
       "\n",
       "    .dataframe tbody tr th {\n",
       "        vertical-align: top;\n",
       "    }\n",
       "\n",
       "    .dataframe thead th {\n",
       "        text-align: right;\n",
       "    }\n",
       "</style>\n",
       "<table border=\"1\" class=\"dataframe\">\n",
       "  <thead>\n",
       "    <tr style=\"text-align: right;\">\n",
       "      <th></th>\n",
       "      <th>count</th>\n",
       "      <th>mean</th>\n",
       "      <th>std</th>\n",
       "      <th>min</th>\n",
       "      <th>25%</th>\n",
       "      <th>50%</th>\n",
       "      <th>75%</th>\n",
       "      <th>max</th>\n",
       "    </tr>\n",
       "  </thead>\n",
       "  <tbody>\n",
       "    <tr>\n",
       "      <th>MaxWindMPH</th>\n",
       "      <td>354.0</td>\n",
       "      <td>77.593220</td>\n",
       "      <td>28.083719</td>\n",
       "      <td>35.0</td>\n",
       "      <td>58.0</td>\n",
       "      <td>69.0</td>\n",
       "      <td>92.0</td>\n",
       "      <td>173.0</td>\n",
       "    </tr>\n",
       "    <tr>\n",
       "      <th>MinPressure</th>\n",
       "      <td>359.0</td>\n",
       "      <td>903.487465</td>\n",
       "      <td>818.808652</td>\n",
       "      <td>-9999.0</td>\n",
       "      <td>954.0</td>\n",
       "      <td>975.0</td>\n",
       "      <td>986.0</td>\n",
       "      <td>998.0</td>\n",
       "    </tr>\n",
       "  </tbody>\n",
       "</table>\n",
       "</div>"
      ],
      "text/plain": [
       "             count        mean         std     min    25%    50%    75%    max\n",
       "MaxWindMPH   354.0   77.593220   28.083719    35.0   58.0   69.0   92.0  173.0\n",
       "MinPressure  359.0  903.487465  818.808652 -9999.0  954.0  975.0  986.0  998.0"
      ]
     },
     "execution_count": 34,
     "metadata": {},
     "output_type": "execute_result"
    }
   ],
   "source": [
    "# Drop the columns we don't want\n",
    "# Apply a where filter to just get BasinCode basins\n",
    "# Describe and Transpose\n",
    "BasinCode = 'SP'\n",
    "storm_summary_df.drop(columns=['Season', 'Lat', 'Lon']).where(storm_summary_df['Basin'] == BasinCode).describe().T"
   ]
  },
  {
   "cell_type": "code",
   "execution_count": 37,
   "metadata": {},
   "outputs": [
    {
     "data": {
      "text/plain": [
       "Type\n",
       "NR    359\n",
       "dtype: int64"
      ]
     },
     "execution_count": 37,
     "metadata": {},
     "output_type": "execute_result"
    }
   ],
   "source": [
    "storm_summary_df.drop(columns=['Season', 'Lat', 'Lon']).where(storm_summary_df['Basin'] == BasinCode).value_counts('Type')"
   ]
  },
  {
   "cell_type": "code",
   "execution_count": 38,
   "metadata": {},
   "outputs": [
    {
     "data": {
      "text/plain": [
       "'Succesfully disconnected. Be sure to have a valid network connection before submitting anything else.'"
      ]
     },
     "execution_count": 38,
     "metadata": {},
     "output_type": "execute_result"
    }
   ],
   "source": [
    "# Disconnect from SAS server\n",
    "sas.disconnect()"
   ]
  }
 ],
 "metadata": {
  "kernelspec": {
   "display_name": "Python 3",
   "language": "python",
   "name": "python3"
  },
  "language_info": {
   "codemirror_mode": {
    "name": "ipython",
    "version": 3
   },
   "file_extension": ".py",
   "mimetype": "text/x-python",
   "name": "python",
   "nbconvert_exporter": "python",
   "pygments_lexer": "ipython3",
   "version": "3.8.5"
  }
 },
 "nbformat": 4,
 "nbformat_minor": 4
}
